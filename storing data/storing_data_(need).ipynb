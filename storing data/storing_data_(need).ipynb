{
 "cells": [
  {
   "attachments": {},
   "cell_type": "markdown",
   "id": "123456",
   "metadata": {},
   "source": [
    "<div style=\"text-align:left;font-size:2em\"><span style=\"font-weight:bolder;font-size:1.25em\">SP2273 | Learning Portfolio</span><br><br><span style=\"font-weight:bold;color:darkred\">Storing Data (Need)</span></div>"
   ]
  },
  {
   "cell_type": "code",
   "execution_count": 23,
   "id": "fdc0323c-e8d7-4665-a9ea-a56dd282df33",
   "metadata": {},
   "outputs": [],
   "source": [
    "import numpy as np"
   ]
  },
  {
   "attachments": {},
   "cell_type": "markdown",
   "id": "f62a00a7",
   "metadata": {},
   "source": [
    "# Lists, Arrays & Dictionaries"
   ]
  },
  {
   "attachments": {},
   "cell_type": "markdown",
   "id": "12b0c888",
   "metadata": {},
   "source": [
    "## Let’s compare"
   ]
  },
  {
   "cell_type": "markdown",
   "id": "e230b094-f820-4e7b-9663-20c95b2614c7",
   "metadata": {},
   "source": [
    "**Python Lists**"
   ]
  },
  {
   "cell_type": "code",
   "execution_count": 1,
   "id": "b988979a-57a8-4103-89bc-05b4ff3a03b4",
   "metadata": {},
   "outputs": [],
   "source": [
    "py_super_names = [\"Black Widow\", \"Iron Man\", \"Doctor Strange\"]\n",
    "py_real_names = [\"Natasha Romanoff\", \"Tony Stark\", \"Stephen Strange\"]"
   ]
  },
  {
   "cell_type": "markdown",
   "id": "96bec809-883b-4050-87ad-a2d37efebb80",
   "metadata": {},
   "source": [
    "**Numpy Arrays**"
   ]
  },
  {
   "cell_type": "code",
   "execution_count": null,
   "id": "8ee4285b-007b-450c-80e8-f086dbeff4e1",
   "metadata": {},
   "outputs": [],
   "source": [
    "np_super_names = np.array([\"Black Widow\", \"Iron Man\", \"Doctor Strange\"])\n",
    "np_real_names = np.array([\"Natasha Romanoff\", \"Tony Stark\", \"Stephen Strange\"])"
   ]
  },
  {
   "cell_type": "markdown",
   "id": "b8a45dc6-50d0-4cdb-a041-1a8dfc7823e9",
   "metadata": {},
   "source": [
    "**Dictionary**"
   ]
  },
  {
   "cell_type": "code",
   "execution_count": null,
   "id": "b36c6bad-f160-48ac-a1bc-704c7b5a6135",
   "metadata": {},
   "outputs": [],
   "source": [
    "superhero_info = {\n",
    "    \"Natasha Romanoff\": \"Black Widow\",\n",
    "    \"Tony Stark\": \"Iron Man\",\n",
    "    \"Stephen Strange\": \"Doctor Strange\"\n",
    "}"
   ]
  },
  {
   "attachments": {},
   "cell_type": "markdown",
   "id": "7b0286ea",
   "metadata": {},
   "source": [
    "## Accessing data from a list (or array)"
   ]
  },
  {
   "cell_type": "code",
   "execution_count": 2,
   "id": "347f7250-6c7a-47e4-a90b-8e120f00b669",
   "metadata": {},
   "outputs": [],
   "source": [
    "py_super_names = [\"Black Widow\", \"Iron Man\", \"Doctor Strange\"]\n",
    "py_real_names = [\"Natasha Romanoff\", \"Tony Stark\", \"Stephen Strange\"]"
   ]
  },
  {
   "cell_type": "markdown",
   "id": "da9ccfe6-af1d-413e-868d-440ce5d21446",
   "metadata": {},
   "source": [
    "**Example 1**"
   ]
  },
  {
   "cell_type": "code",
   "execution_count": 3,
   "id": "d9edb2fc-95b5-4ed2-be2b-e3a11753bd21",
   "metadata": {},
   "outputs": [
    {
     "data": {
      "text/plain": [
       "'Natasha Romanoff'"
      ]
     },
     "execution_count": 3,
     "metadata": {},
     "output_type": "execute_result"
    }
   ],
   "source": [
    "py_real_names[0]"
   ]
  },
  {
   "cell_type": "markdown",
   "id": "f7305ae2-3431-46a7-8ecf-7f5b08f2fe7d",
   "metadata": {},
   "source": [
    "**Example 2**"
   ]
  },
  {
   "cell_type": "code",
   "execution_count": 4,
   "id": "732ad93f-533d-4c17-bf85-5d8afdc8241e",
   "metadata": {},
   "outputs": [
    {
     "data": {
      "text/plain": [
       "'Black Widow'"
      ]
     },
     "execution_count": 4,
     "metadata": {},
     "output_type": "execute_result"
    }
   ],
   "source": [
    "py_super_names[0]"
   ]
  },
  {
   "cell_type": "code",
   "execution_count": 10,
   "id": "c1911114-b34d-4cdc-93d1-fcc2e2137495",
   "metadata": {},
   "outputs": [
    {
     "name": "stdout",
     "output_type": "stream",
     "text": [
      "Stephen Strange  is  Doctor Strange\n"
     ]
    }
   ],
   "source": [
    "i=2\n",
    "print(py_real_names[i],' is ',py_super_names[i])"
   ]
  },
  {
   "cell_type": "markdown",
   "id": "70fd5c9e-3dd4-4831-85cc-3f526f8a6b59",
   "metadata": {},
   "source": [
    "**Example 3**"
   ]
  },
  {
   "cell_type": "code",
   "execution_count": 11,
   "id": "6ca19bd4-fb05-405f-901d-a9ce3fe86c98",
   "metadata": {},
   "outputs": [
    {
     "data": {
      "text/plain": [
       "'Doctor Strange'"
      ]
     },
     "execution_count": 11,
     "metadata": {},
     "output_type": "execute_result"
    }
   ],
   "source": [
    "py_super_names[2]    # Forward indexing \n",
    "                     # We need to know the size \n",
    "                     # beforehand for this to work."
   ]
  },
  {
   "cell_type": "code",
   "execution_count": 12,
   "id": "ef47424a-7b0a-46e7-8f3b-aac1bc0f1417",
   "metadata": {},
   "outputs": [
    {
     "data": {
      "text/plain": [
       "'Doctor Strange'"
      ]
     },
     "execution_count": 12,
     "metadata": {},
     "output_type": "execute_result"
    }
   ],
   "source": [
    "py_super_names[-1]"
   ]
  },
  {
   "attachments": {},
   "cell_type": "markdown",
   "id": "9328d070",
   "metadata": {},
   "source": [
    "## Accessing data from a dictionary"
   ]
  },
  {
   "cell_type": "code",
   "execution_count": 17,
   "id": "ae4df215-41a5-49e3-a5b9-94bb8020252d",
   "metadata": {},
   "outputs": [],
   "source": [
    "superhero_info = {\n",
    "    \"Natasha Romanoff\": \"Black Widow\",\n",
    "    \"Tony Stark\": \"Iron Man\",\n",
    "    \"Stephen Strange\": \"Doctor Strange\"\n",
    "}                  "
   ]
  },
  {
   "cell_type": "code",
   "execution_count": 18,
   "id": "e6ffc3d6-1756-4692-b06e-4b9703d21ffd",
   "metadata": {},
   "outputs": [
    {
     "data": {
      "text/plain": [
       "'Black Widow'"
      ]
     },
     "execution_count": 18,
     "metadata": {},
     "output_type": "execute_result"
    }
   ],
   "source": [
    "superhero_info[\"Natasha Romanoff\"]"
   ]
  },
  {
   "cell_type": "code",
   "execution_count": 19,
   "id": "0f07c0f2-60f4-4b34-b476-515512efd8eb",
   "metadata": {},
   "outputs": [
    {
     "data": {
      "text/plain": [
       "dict_keys(['Natasha Romanoff', 'Tony Stark', 'Stephen Strange'])"
      ]
     },
     "execution_count": 19,
     "metadata": {},
     "output_type": "execute_result"
    }
   ],
   "source": [
    "superhero_info.keys()"
   ]
  },
  {
   "cell_type": "code",
   "execution_count": 20,
   "id": "086ff3c3-6ef3-4662-ae58-8163fda8827d",
   "metadata": {},
   "outputs": [
    {
     "data": {
      "text/plain": [
       "dict_values(['Black Widow', 'Iron Man', 'Doctor Strange'])"
      ]
     },
     "execution_count": 20,
     "metadata": {},
     "output_type": "execute_result"
    }
   ],
   "source": [
    "superhero_info.values()"
   ]
  },
  {
   "attachments": {},
   "cell_type": "markdown",
   "id": "19f2321b",
   "metadata": {},
   "source": [
    "## Higher dimensional lists"
   ]
  },
  {
   "cell_type": "code",
   "execution_count": 22,
   "id": "d5382b9d-a559-453f-a920-7db39e8186c7",
   "metadata": {},
   "outputs": [],
   "source": [
    "py_superhero_info = [\n",
    "    ['Natasha Romanoff', 'Black Widow'],\n",
    "    ['Tony Stark', 'Iron Man'],\n",
    "    ['Stephen Strange', 'Doctor Strange']\n",
    "]"
   ]
  },
  {
   "attachments": {},
   "cell_type": "markdown",
   "id": "eddbff7f",
   "metadata": {},
   "source": [
    "# Lists vs. Arrays"
   ]
  },
  {
   "cell_type": "code",
   "execution_count": 35,
   "id": "1dae3f79-27ab-4ab9-93ad-7009771fdd12",
   "metadata": {},
   "outputs": [],
   "source": [
    "py_list_2d = [\n",
    "    [1, \"A\"],\n",
    "    [2, \"B\"],\n",
    "    [3, \"C\"],\n",
    "    [4, \"D\"],\n",
    "    [5, \"E\"],\n",
    "    [6, \"F\"],\n",
    "    [7, \"G\"],\n",
    "    [8, \"H\"],\n",
    "    [9, \"I\"],\n",
    "    [10, \"J\"]\n",
    "    ]\n",
    "\n",
    "np_array_2d = np.array(py_list_2d)      # Reusing the Python list \n",
    "                                        # to create a NEW\n",
    "                                        # NumPy array"
   ]
  },
  {
   "cell_type": "code",
   "execution_count": 26,
   "id": "450db02a-025b-411c-acc0-8c475b4a9a7b",
   "metadata": {},
   "outputs": [
    {
     "data": {
      "text/plain": [
       "[[1, 'A'],\n",
       " [2, 'B'],\n",
       " [3, 'C'],\n",
       " [4, 'D'],\n",
       " [5, 'E'],\n",
       " [6, 'F'],\n",
       " [7, 'G'],\n",
       " [8, 'H'],\n",
       " [9, 'I'],\n",
       " [10, 'J']]"
      ]
     },
     "execution_count": 26,
     "metadata": {},
     "output_type": "execute_result"
    }
   ],
   "source": [
    "py_list_2d"
   ]
  },
  {
   "cell_type": "code",
   "execution_count": 27,
   "id": "c31afa27-0d75-4ff2-99e7-3a78161c4df9",
   "metadata": {},
   "outputs": [
    {
     "data": {
      "text/plain": [
       "array([['1', 'A'],\n",
       "       ['2', 'B'],\n",
       "       ['3', 'C'],\n",
       "       ['4', 'D'],\n",
       "       ['5', 'E'],\n",
       "       ['6', 'F'],\n",
       "       ['7', 'G'],\n",
       "       ['8', 'H'],\n",
       "       ['9', 'I'],\n",
       "       ['10', 'J']], dtype='<U11')"
      ]
     },
     "execution_count": 27,
     "metadata": {},
     "output_type": "execute_result"
    }
   ],
   "source": [
    "np_array_2d"
   ]
  },
  {
   "attachments": {},
   "cell_type": "markdown",
   "id": "726a2e90",
   "metadata": {},
   "source": [
    "## Size"
   ]
  },
  {
   "cell_type": "markdown",
   "id": "4ef7dcb2-9dd4-4abc-92d3-f2d8e6605ccb",
   "metadata": {},
   "source": [
    "**Lists**"
   ]
  },
  {
   "cell_type": "code",
   "execution_count": 28,
   "id": "eb0f0e66-6df4-4d30-86b6-7118eb9c1765",
   "metadata": {},
   "outputs": [
    {
     "data": {
      "text/plain": [
       "10"
      ]
     },
     "execution_count": 28,
     "metadata": {},
     "output_type": "execute_result"
    }
   ],
   "source": [
    "len(py_list_2d)"
   ]
  },
  {
   "cell_type": "markdown",
   "id": "4497e211-20c8-4c75-aac2-636b52a70ba8",
   "metadata": {},
   "source": [
    "**Arrays**"
   ]
  },
  {
   "cell_type": "code",
   "execution_count": 29,
   "id": "ba7face3-2506-42c7-800f-a999c4ec9828",
   "metadata": {},
   "outputs": [
    {
     "data": {
      "text/plain": [
       "10"
      ]
     },
     "execution_count": 29,
     "metadata": {},
     "output_type": "execute_result"
    }
   ],
   "source": [
    "len(np_array_2d)"
   ]
  },
  {
   "cell_type": "code",
   "execution_count": 36,
   "id": "2dea7955-b0b4-4daa-b7c4-ffc8d7ab53a7",
   "metadata": {},
   "outputs": [
    {
     "data": {
      "text/plain": [
       "(10, 2)"
      ]
     },
     "execution_count": 36,
     "metadata": {},
     "output_type": "execute_result"
    }
   ],
   "source": [
    "np_array_2d.shape"
   ]
  },
  {
   "attachments": {},
   "cell_type": "markdown",
   "id": "2aa1f6cc",
   "metadata": {},
   "source": [
    "## Arrays are fussy about type"
   ]
  },
  {
   "cell_type": "code",
   "execution_count": 37,
   "id": "4d2c17c5-6e1e-40c1-bca2-369567a93619",
   "metadata": {},
   "outputs": [],
   "source": [
    "py_list = [1, 1.5, 'A']\n",
    "np_array = np.array(py_list)"
   ]
  },
  {
   "cell_type": "markdown",
   "id": "ecc91254-1e29-4588-be8f-fb3d0380759b",
   "metadata": {},
   "source": [
    "**Lists**"
   ]
  },
  {
   "cell_type": "code",
   "execution_count": 38,
   "id": "5efca688-6fdf-4816-b4f7-1b4119cfdcf1",
   "metadata": {},
   "outputs": [
    {
     "data": {
      "text/plain": [
       "[1, 1.5, 'A']"
      ]
     },
     "execution_count": 38,
     "metadata": {},
     "output_type": "execute_result"
    }
   ],
   "source": [
    "py_list"
   ]
  },
  {
   "cell_type": "markdown",
   "id": "7df8f388-b20c-436e-a534-8574919dccfa",
   "metadata": {},
   "source": [
    "**Arrays**"
   ]
  },
  {
   "cell_type": "code",
   "execution_count": 39,
   "id": "edb2f897-0c11-4867-a0da-47085a86ee27",
   "metadata": {},
   "outputs": [
    {
     "data": {
      "text/plain": [
       "array(['1', '1.5', 'A'], dtype='<U32')"
      ]
     },
     "execution_count": 39,
     "metadata": {},
     "output_type": "execute_result"
    }
   ],
   "source": [
    "np_array"
   ]
  },
  {
   "attachments": {},
   "cell_type": "markdown",
   "id": "1c97a3e3",
   "metadata": {},
   "source": [
    "## Adding a number"
   ]
  },
  {
   "cell_type": "code",
   "execution_count": 40,
   "id": "4b8c0c8b-01dc-42bf-bdf7-35279ff0cd1f",
   "metadata": {},
   "outputs": [],
   "source": [
    "py_list = [1, 2, 3, 4, 5]\n",
    "np_array = np.array(py_list)         # Reusing the Python list\n",
    "                                     # to create a NEW\n",
    "                                     # NumPy array"
   ]
  },
  {
   "cell_type": "code",
   "execution_count": 41,
   "id": "594ab105-adfc-445b-bfe3-9683857e16ff",
   "metadata": {},
   "outputs": [
    {
     "data": {
      "text/plain": [
       "[1, 2, 3, 4, 5]"
      ]
     },
     "execution_count": 41,
     "metadata": {},
     "output_type": "execute_result"
    }
   ],
   "source": [
    "py_list"
   ]
  },
  {
   "cell_type": "code",
   "execution_count": 42,
   "id": "97adebb5-88d3-4080-a233-4c2829799f3b",
   "metadata": {},
   "outputs": [
    {
     "data": {
      "text/plain": [
       "array([1, 2, 3, 4, 5])"
      ]
     },
     "execution_count": 42,
     "metadata": {},
     "output_type": "execute_result"
    }
   ],
   "source": [
    "np_array"
   ]
  },
  {
   "cell_type": "markdown",
   "id": "9547ae26-4ca8-4bfb-80cd-b2cc2a9a7af8",
   "metadata": {},
   "source": [
    "**Lists**"
   ]
  },
  {
   "cell_type": "code",
   "execution_count": 44,
   "id": "0e57bb82-ee93-4d53-b7e1-39d8f061193f",
   "metadata": {},
   "outputs": [
    {
     "ename": "TypeError",
     "evalue": "can only concatenate list (not \"int\") to list",
     "output_type": "error",
     "traceback": [
      "\u001b[1;31m--------------------------------------------------------\u001b[0m",
      "\u001b[1;31mTypeError\u001b[0m              Traceback (most recent call last)",
      "Cell \u001b[1;32mIn[44], line 1\u001b[0m\n\u001b[1;32m----> 1\u001b[0m \u001b[43mpy_list\u001b[49m\u001b[43m \u001b[49m\u001b[38;5;241;43m+\u001b[39;49m\u001b[43m \u001b[49m\u001b[38;5;241;43m100\u001b[39;49m\n",
      "\u001b[1;31mTypeError\u001b[0m: can only concatenate list (not \"int\") to list"
     ]
    }
   ],
   "source": [
    "py_list + 100"
   ]
  },
  {
   "cell_type": "markdown",
   "id": "a0df5762-65db-4823-8cc8-7c05a66d54b7",
   "metadata": {},
   "source": [
    "**Arrays**"
   ]
  },
  {
   "cell_type": "code",
   "execution_count": 43,
   "id": "aaaf2ae7-6a18-4b9a-ba28-00453562fc4f",
   "metadata": {},
   "outputs": [
    {
     "data": {
      "text/plain": [
       "array([101, 102, 103, 104, 105])"
      ]
     },
     "execution_count": 43,
     "metadata": {},
     "output_type": "execute_result"
    }
   ],
   "source": [
    "np_array + 100"
   ]
  },
  {
   "attachments": {},
   "cell_type": "markdown",
   "id": "198e2286",
   "metadata": {},
   "source": [
    "## Adding another list"
   ]
  },
  {
   "cell_type": "code",
   "execution_count": 45,
   "id": "d7f9f544-02e3-4561-88c3-cc09aabd7ce6",
   "metadata": {},
   "outputs": [],
   "source": [
    "py_list_1 = [1, 2, 3, 4, 5]\n",
    "py_list_2 = [10, 20, 30, 40, 50]\n",
    "\n",
    "np_array_1 = np.array(py_list_1)\n",
    "np_array_2 = np.array(py_list_2)"
   ]
  },
  {
   "cell_type": "markdown",
   "id": "f0eeb5fc-4845-4ea1-9df3-79aee6b1a843",
   "metadata": {},
   "source": [
    "**Lists**"
   ]
  },
  {
   "cell_type": "code",
   "execution_count": 46,
   "id": "d0859642-5bbf-451e-baef-bddf9f7b445d",
   "metadata": {},
   "outputs": [
    {
     "data": {
      "text/plain": [
       "[1, 2, 3, 4, 5, 10, 20, 30, 40, 50]"
      ]
     },
     "execution_count": 46,
     "metadata": {},
     "output_type": "execute_result"
    }
   ],
   "source": [
    "py_list_1 + py_list_2"
   ]
  },
  {
   "cell_type": "markdown",
   "id": "7f1172a7-3bbb-438d-85a3-346a3406016b",
   "metadata": {},
   "source": [
    "**Arrays**"
   ]
  },
  {
   "cell_type": "code",
   "execution_count": 47,
   "id": "45bd3fb4-57d3-4aa8-b05d-9ff7ea919ea7",
   "metadata": {},
   "outputs": [
    {
     "data": {
      "text/plain": [
       "array([11, 22, 33, 44, 55])"
      ]
     },
     "execution_count": 47,
     "metadata": {},
     "output_type": "execute_result"
    }
   ],
   "source": [
    "np_array_1 + np_array_2"
   ]
  },
  {
   "attachments": {},
   "cell_type": "markdown",
   "id": "2899d38b",
   "metadata": {},
   "source": [
    "## Multiplying by a Number"
   ]
  },
  {
   "cell_type": "code",
   "execution_count": 48,
   "id": "62833554-4fac-470a-9afd-1e2fba025556",
   "metadata": {},
   "outputs": [],
   "source": [
    "py_list = [1, 2, 3, 4, 5]\n",
    "np_array = np.array(py_list)         "
   ]
  },
  {
   "cell_type": "markdown",
   "id": "bed54457-f2fe-4bf4-acfa-0a33bbe69912",
   "metadata": {},
   "source": [
    "**Lists**"
   ]
  },
  {
   "cell_type": "code",
   "execution_count": 49,
   "id": "dc0fae00-45f5-4777-a5ac-da172ee271a9",
   "metadata": {},
   "outputs": [
    {
     "data": {
      "text/plain": [
       "[1, 2, 3, 4, 5, 1, 2, 3, 4, 5]"
      ]
     },
     "execution_count": 49,
     "metadata": {},
     "output_type": "execute_result"
    }
   ],
   "source": [
    "py_list*2"
   ]
  },
  {
   "cell_type": "markdown",
   "id": "e6aa7e04-6ca6-4988-a2de-8c1d7c29dc89",
   "metadata": {},
   "source": [
    "**Arrays**"
   ]
  },
  {
   "cell_type": "code",
   "execution_count": 50,
   "id": "cffb33e6-417b-4c6c-9114-184a39f760c7",
   "metadata": {},
   "outputs": [
    {
     "data": {
      "text/plain": [
       "array([ 2,  4,  6,  8, 10])"
      ]
     },
     "execution_count": 50,
     "metadata": {},
     "output_type": "execute_result"
    }
   ],
   "source": [
    "np_array*2"
   ]
  },
  {
   "attachments": {},
   "cell_type": "markdown",
   "id": "725f4409",
   "metadata": {},
   "source": [
    "## Squaring"
   ]
  },
  {
   "cell_type": "code",
   "execution_count": null,
   "id": "d5518b5a-3cff-4457-9471-39f2dc02cc6a",
   "metadata": {},
   "outputs": [],
   "source": [
    "py_list = [1, 2, 3, 4, 5]\n",
    "np_array = np.array(py_list)"
   ]
  },
  {
   "cell_type": "markdown",
   "id": "f3798ae5-4f1f-414d-b016-3200a5ed334c",
   "metadata": {},
   "source": [
    "**Lists**"
   ]
  },
  {
   "cell_type": "code",
   "execution_count": 52,
   "id": "7013dce5-e014-4ca5-8339-5552348833c6",
   "metadata": {},
   "outputs": [
    {
     "ename": "TypeError",
     "evalue": "unsupported operand type(s) for ** or pow(): 'list' and 'int'",
     "output_type": "error",
     "traceback": [
      "\u001b[1;31m--------------------------------------------------------\u001b[0m",
      "\u001b[1;31mTypeError\u001b[0m              Traceback (most recent call last)",
      "Cell \u001b[1;32mIn[52], line 1\u001b[0m\n\u001b[1;32m----> 1\u001b[0m \u001b[43mpy_list\u001b[49m\u001b[38;5;241;43m*\u001b[39;49m\u001b[38;5;241;43m*\u001b[39;49m\u001b[38;5;241;43m2\u001b[39;49m                      \u001b[38;5;66;03m# Won't work!  \u001b[39;00m\n",
      "\u001b[1;31mTypeError\u001b[0m: unsupported operand type(s) for ** or pow(): 'list' and 'int'"
     ]
    }
   ],
   "source": [
    "py_list**2                      # Won't work!  "
   ]
  },
  {
   "cell_type": "markdown",
   "id": "4e77d097-6e79-4741-ad9d-be3c215b06f8",
   "metadata": {},
   "source": [
    "**Arrays**"
   ]
  },
  {
   "cell_type": "code",
   "execution_count": 51,
   "id": "b28bc9d2-02a3-4470-a638-a84f4528eb40",
   "metadata": {},
   "outputs": [
    {
     "data": {
      "text/plain": [
       "array([ 1,  4,  9, 16, 25])"
      ]
     },
     "execution_count": 51,
     "metadata": {},
     "output_type": "execute_result"
    }
   ],
   "source": [
    "np_array**2"
   ]
  },
  {
   "attachments": {},
   "cell_type": "markdown",
   "id": "33106d6d",
   "metadata": {},
   "source": [
    "## Asking questions"
   ]
  },
  {
   "cell_type": "code",
   "execution_count": 55,
   "id": "c6482d94-5661-48eb-819a-dc002b091d41",
   "metadata": {},
   "outputs": [],
   "source": [
    "py_list = [1, 2, 3, 4, 5]\n",
    "np_array = np.array(py_list)         "
   ]
  },
  {
   "cell_type": "markdown",
   "id": "c4c8b5b9-bd09-4948-84aa-3e04a13083c5",
   "metadata": {},
   "source": [
    "**Lists**"
   ]
  },
  {
   "cell_type": "code",
   "execution_count": 57,
   "id": "dc503061-747b-48fc-8a7c-b4b97eaafc6e",
   "metadata": {},
   "outputs": [
    {
     "data": {
      "text/plain": [
       "False"
      ]
     },
     "execution_count": 57,
     "metadata": {},
     "output_type": "execute_result"
    }
   ],
   "source": [
    "py_list == 3     # Works, but what IS the question?"
   ]
  },
  {
   "cell_type": "code",
   "execution_count": 56,
   "id": "284400d2-218e-478e-ab93-7db7667398db",
   "metadata": {},
   "outputs": [
    {
     "ename": "TypeError",
     "evalue": "'>' not supported between instances of 'list' and 'int'",
     "output_type": "error",
     "traceback": [
      "\u001b[1;31m--------------------------------------------------------\u001b[0m",
      "\u001b[1;31mTypeError\u001b[0m              Traceback (most recent call last)",
      "Cell \u001b[1;32mIn[56], line 1\u001b[0m\n\u001b[1;32m----> 1\u001b[0m \u001b[43mpy_list\u001b[49m\u001b[43m \u001b[49m\u001b[38;5;241;43m>\u001b[39;49m\u001b[43m \u001b[49m\u001b[38;5;241;43m3\u001b[39;49m      \u001b[38;5;66;03m# Won't work!\u001b[39;00m\n",
      "\u001b[1;31mTypeError\u001b[0m: '>' not supported between instances of 'list' and 'int'"
     ]
    }
   ],
   "source": [
    "py_list > 3      # Won't work!"
   ]
  },
  {
   "cell_type": "markdown",
   "id": "edce7742-e1a9-4aa5-95bc-df923c790293",
   "metadata": {},
   "source": [
    "**Arrays**"
   ]
  },
  {
   "cell_type": "code",
   "execution_count": 60,
   "id": "b8f160b3-f80a-4aa0-81f2-93104c34c186",
   "metadata": {},
   "outputs": [
    {
     "data": {
      "text/plain": [
       "array([1, 2, 3, 4, 5])"
      ]
     },
     "execution_count": 60,
     "metadata": {},
     "output_type": "execute_result"
    }
   ],
   "source": [
    "np_array"
   ]
  },
  {
   "cell_type": "code",
   "execution_count": 58,
   "id": "b61bac06-74d4-4864-b9af-84826a9dbfe7",
   "metadata": {},
   "outputs": [
    {
     "data": {
      "text/plain": [
       "array([False, False,  True, False, False])"
      ]
     },
     "execution_count": 58,
     "metadata": {},
     "output_type": "execute_result"
    }
   ],
   "source": [
    "np_array == 3  "
   ]
  },
  {
   "cell_type": "code",
   "execution_count": 62,
   "id": "2486ae82-cb96-47f9-bd53-b7296589eafb",
   "metadata": {},
   "outputs": [
    {
     "data": {
      "text/plain": [
       "array([False, False, False,  True,  True])"
      ]
     },
     "execution_count": 62,
     "metadata": {},
     "output_type": "execute_result"
    }
   ],
   "source": [
    "np_array > 3"
   ]
  },
  {
   "cell_type": "code",
   "execution_count": 61,
   "id": "d26b10eb-0b5a-44ba-9460-c665334c9f7d",
   "metadata": {},
   "outputs": [
    {
     "data": {
      "text/plain": [
       "2"
      ]
     },
     "execution_count": 61,
     "metadata": {},
     "output_type": "execute_result"
    }
   ],
   "source": [
    "sum(np_array > 3)  "
   ]
  },
  {
   "attachments": {},
   "cell_type": "markdown",
   "id": "331ec13c",
   "metadata": {},
   "source": [
    "## Mathematics"
   ]
  },
  {
   "cell_type": "code",
   "execution_count": 67,
   "id": "c890402b-2db5-4693-8340-4f7263f4697f",
   "metadata": {},
   "outputs": [],
   "source": [
    "py_list = [1, 2, 3, 4, 5]\n",
    "np_array = np.array(py_list)         "
   ]
  },
  {
   "cell_type": "markdown",
   "id": "2a1e31f0-70d3-4502-9624-3cbb4a98ba85",
   "metadata": {},
   "source": [
    "**Example 1**"
   ]
  },
  {
   "cell_type": "markdown",
   "id": "08de64a0-3c78-4fa7-96f1-f94e659d5ccf",
   "metadata": {},
   "source": [
    "**Lists**"
   ]
  },
  {
   "cell_type": "code",
   "execution_count": 68,
   "id": "e5ba88eb-6c24-4416-a523-fb144f6ec5d1",
   "metadata": {},
   "outputs": [
    {
     "data": {
      "text/plain": [
       "15"
      ]
     },
     "execution_count": 68,
     "metadata": {},
     "output_type": "execute_result"
    }
   ],
   "source": [
    "sum(py_list)     # sum() is a base Python function"
   ]
  },
  {
   "cell_type": "code",
   "execution_count": 75,
   "id": "e27f257d-cc2e-4b88-963c-e4899e63ac9f",
   "metadata": {},
   "outputs": [
    {
     "ename": "AttributeError",
     "evalue": "'list' object has no attribute 'sum'",
     "output_type": "error",
     "traceback": [
      "\u001b[1;31m--------------------------------------------------------\u001b[0m",
      "\u001b[1;31mAttributeError\u001b[0m         Traceback (most recent call last)",
      "Cell \u001b[1;32mIn[75], line 1\u001b[0m\n\u001b[1;32m----> 1\u001b[0m \u001b[43mpy_list\u001b[49m\u001b[38;5;241;43m.\u001b[39;49m\u001b[43msum\u001b[49m()   \u001b[38;5;66;03m# Won't work!\u001b[39;00m\n",
      "\u001b[1;31mAttributeError\u001b[0m: 'list' object has no attribute 'sum'"
     ]
    }
   ],
   "source": [
    "py_list.sum()   # Won't work!"
   ]
  },
  {
   "cell_type": "markdown",
   "id": "2a52f1aa-fc63-4991-8ff7-af5474e78e08",
   "metadata": {},
   "source": [
    "**Arrays**"
   ]
  },
  {
   "cell_type": "code",
   "execution_count": 70,
   "id": "86efa394-981a-45cf-b16c-ca328c58cd7e",
   "metadata": {},
   "outputs": [
    {
     "data": {
      "text/plain": [
       "15"
      ]
     },
     "execution_count": 70,
     "metadata": {},
     "output_type": "execute_result"
    }
   ],
   "source": [
    "sum(np_array)"
   ]
  },
  {
   "cell_type": "code",
   "execution_count": 69,
   "id": "6e2a555a-0486-437b-b5d1-a001020d1be1",
   "metadata": {},
   "outputs": [
    {
     "data": {
      "text/plain": [
       "15"
      ]
     },
     "execution_count": 69,
     "metadata": {},
     "output_type": "execute_result"
    }
   ],
   "source": [
    "np_array.sum()"
   ]
  },
  {
   "cell_type": "markdown",
   "id": "338299f5-690d-4b87-a50c-16285aa644e0",
   "metadata": {},
   "source": [
    "**Example 2**"
   ]
  },
  {
   "cell_type": "markdown",
   "id": "df1ee1bf-f0ef-4892-adfd-4dbb3bd19154",
   "metadata": {},
   "source": [
    "**Lists**"
   ]
  },
  {
   "cell_type": "code",
   "execution_count": 71,
   "id": "7f8e3125-751e-451e-bcf4-ccf096d5824d",
   "metadata": {},
   "outputs": [
    {
     "data": {
      "text/plain": [
       "5"
      ]
     },
     "execution_count": 71,
     "metadata": {},
     "output_type": "execute_result"
    }
   ],
   "source": [
    "max(py_list)     # max() is a base Python function"
   ]
  },
  {
   "cell_type": "markdown",
   "id": "2681df1d-6e42-43f5-806c-805ea36ca683",
   "metadata": {},
   "source": [
    "**Arrays**"
   ]
  },
  {
   "cell_type": "code",
   "execution_count": 72,
   "id": "6f922328-f566-4591-a2cf-d7d8ee17f2d3",
   "metadata": {},
   "outputs": [
    {
     "data": {
      "text/plain": [
       "5"
      ]
     },
     "execution_count": 72,
     "metadata": {},
     "output_type": "execute_result"
    }
   ],
   "source": [
    "np_array.max()"
   ]
  },
  {
   "cell_type": "markdown",
   "id": "54736228-3873-4a76-a056-a5fb505cbfcc",
   "metadata": {},
   "source": [
    "**Example 3**"
   ]
  },
  {
   "cell_type": "code",
   "execution_count": null,
   "id": "743914ae-f12f-4823-8279-0f79135ce4cd",
   "metadata": {},
   "outputs": [],
   "source": []
  },
  {
   "cell_type": "markdown",
   "id": "0d14c2e4-f71b-4158-b3c9-667963eb08cc",
   "metadata": {},
   "source": [
    "**Lists**"
   ]
  },
  {
   "cell_type": "code",
   "execution_count": 73,
   "id": "7ee65d3f-50fb-4d58-9f96-2217496c8bc5",
   "metadata": {},
   "outputs": [
    {
     "data": {
      "text/plain": [
       "1"
      ]
     },
     "execution_count": 73,
     "metadata": {},
     "output_type": "execute_result"
    }
   ],
   "source": [
    "min(py_list)"
   ]
  },
  {
   "cell_type": "markdown",
   "id": "b8f72d39-2ca3-4111-aa96-182bfe37d005",
   "metadata": {},
   "source": [
    "**Arrays**"
   ]
  },
  {
   "cell_type": "code",
   "execution_count": 74,
   "id": "e5e34e99-66d9-4ec5-8b79-6f66ba3603c0",
   "metadata": {},
   "outputs": [
    {
     "data": {
      "text/plain": [
       "1"
      ]
     },
     "execution_count": 74,
     "metadata": {},
     "output_type": "execute_result"
    }
   ],
   "source": [
    "np_array.min()"
   ]
  },
  {
   "cell_type": "markdown",
   "id": "99030850-bf39-453a-bdba-fbd58efca039",
   "metadata": {},
   "source": [
    "**Example 4**"
   ]
  },
  {
   "cell_type": "code",
   "execution_count": 76,
   "id": "89844a93-d16b-4299-8781-8da74c207c13",
   "metadata": {},
   "outputs": [
    {
     "data": {
      "text/plain": [
       "3.0"
      ]
     },
     "execution_count": 76,
     "metadata": {},
     "output_type": "execute_result"
    }
   ],
   "source": [
    "np_array.mean()"
   ]
  },
  {
   "cell_type": "code",
   "execution_count": 77,
   "id": "904d321d-4b91-438a-873b-d12f58dcfcdd",
   "metadata": {},
   "outputs": [
    {
     "data": {
      "text/plain": [
       "1.4142135623730951"
      ]
     },
     "execution_count": 77,
     "metadata": {},
     "output_type": "execute_result"
    }
   ],
   "source": [
    "np_array.std()"
   ]
  },
  {
   "cell_type": "markdown",
   "id": "b8081329-162b-47e1-9db1-2585100ce0ab",
   "metadata": {},
   "source": [
    "**Lists**"
   ]
  },
  {
   "cell_type": "code",
   "execution_count": null,
   "id": "5dc854a8-b24d-425a-af5e-d1322249b58a",
   "metadata": {},
   "outputs": [],
   "source": []
  },
  {
   "cell_type": "markdown",
   "id": "d278aa13-7d4f-462f-851a-ed12211ec6dc",
   "metadata": {},
   "source": [
    "**Arrays**"
   ]
  },
  {
   "cell_type": "code",
   "execution_count": null,
   "id": "982135b2-753e-4422-9ed4-cd0fd92d2b9b",
   "metadata": {},
   "outputs": [],
   "source": []
  }
 ],
 "metadata": {
  "kernelspec": {
   "display_name": "Python 3 (ipykernel)",
   "language": "python",
   "name": "python3"
  },
  "language_info": {
   "codemirror_mode": {
    "name": "ipython",
    "version": 3
   },
   "file_extension": ".py",
   "mimetype": "text/x-python",
   "name": "python",
   "nbconvert_exporter": "python",
   "pygments_lexer": "ipython3",
   "version": "3.11.5"
  },
  "toc": {
   "base_numbering": 1,
   "nav_menu": {},
   "number_sections": true,
   "sideBar": true,
   "skip_h1_title": false,
   "title_cell": "Table of Contents",
   "title_sidebar": "Contents",
   "toc_cell": false,
   "toc_position": {},
   "toc_section_display": true,
   "toc_window_display": false
  },
  "vscode": {
   "interpreter": {
    "hash": "31f2aee4e71d21fbe5cf8b01ff0e069b9275f58929596ceb00d14d90e3e16cd6"
   }
  }
 },
 "nbformat": 4,
 "nbformat_minor": 5
}
