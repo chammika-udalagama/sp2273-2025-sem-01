{
 "cells": [
  {
   "attachments": {},
   "cell_type": "markdown",
   "id": "123456",
   "metadata": {},
   "source": [
    "<div style=\"text-align:left;font-size:2em\"><span style=\"font-weight:bolder;font-size:1.25em\">SP2273 | Learning Portfolio</span><br><br><span style=\"font-weight:bold;color:darkred\">Loops (Good)</span></div>"
   ]
  },
  {
   "attachments": {},
   "cell_type": "markdown",
   "id": "90ef6dc1",
   "metadata": {},
   "source": [
    "# Interrupting the flow"
   ]
  },
  {
   "cell_type": "markdown",
   "id": "613eba99-2233-4328-831c-a34337bfd7bd",
   "metadata": {},
   "source": [
    "**Example 1**"
   ]
  },
  {
   "cell_type": "code",
   "execution_count": 6,
   "id": "54b1ce8c-d9db-47ef-98e8-a50094385fc3",
   "metadata": {},
   "outputs": [
    {
     "name": "stdout",
     "output_type": "stream",
     "text": [
      "2 raised to the power of 0 is 1.\n",
      "2 raised to the power of 1 is 2.\n",
      "2 raised to the power of 2 is 4.\n",
      "2 raised to the power of 3 is 8.\n",
      "2 raised to the power of 4 is 16.\n",
      "2 raised to the power of 5 is 32.\n",
      "2 raised to the power of 6 is 64.\n",
      "2 raised to the power of 7 is 128.\n",
      "2 raised to the power of 8 is 256.\n",
      "2 raised to the power of 9 is 512.\n"
     ]
    }
   ],
   "source": [
    "for power in range(50):\n",
    "    number = 2**power\n",
    "    if number > 1000:\n",
    "        break\n",
    "    print(f'2 raised to the power of {power} is {number}.')"
   ]
  },
  {
   "cell_type": "markdown",
   "id": "6fdf0f2d-f59f-4044-85cc-db05a4564327",
   "metadata": {},
   "source": [
    "**Example 2**"
   ]
  },
  {
   "cell_type": "code",
   "execution_count": 9,
   "id": "5736d76e-0dad-4160-b718-6bf0ba69faef",
   "metadata": {},
   "outputs": [
    {
     "name": "stdout",
     "output_type": "stream",
     "text": [
      "2 raised to the power of 0 is 1.\n",
      "2 raised to the power of 2 is 4.\n",
      "2 raised to the power of 4 is 16.\n",
      "2 raised to the power of 6 is 64.\n",
      "2 raised to the power of 8 is 256.\n"
     ]
    }
   ],
   "source": [
    "for power in range(50):\n",
    "    if power%2 != 0:\n",
    "        continue\n",
    "    number = 2**power\n",
    "    if number > 1000:\n",
    "        break\n",
    "    print(f'2 raised to the power of {power} is {number}.')"
   ]
  },
  {
   "cell_type": "code",
   "execution_count": null,
   "id": "c4bb88fc-4a65-4a89-a508-f4a5431eb087",
   "metadata": {},
   "outputs": [],
   "source": []
  },
  {
   "cell_type": "markdown",
   "id": "402ef4c4-029d-4d34-b7b5-9f6f438a8cda",
   "metadata": {},
   "source": [
    "**Example 3**"
   ]
  },
  {
   "cell_type": "code",
   "execution_count": null,
   "id": "379bc6d7-6f66-4b17-ab93-e7f48a7c97f4",
   "metadata": {},
   "outputs": [],
   "source": []
  },
  {
   "cell_type": "markdown",
   "id": "f2fba772-84a8-47bc-8735-0871d84ba1bf",
   "metadata": {},
   "source": [
    "**Example 4**"
   ]
  },
  {
   "cell_type": "code",
   "execution_count": 19,
   "id": "2852641b-f7bb-40b7-b8cb-024fb89d637f",
   "metadata": {},
   "outputs": [
    {
     "name": "stdout",
     "output_type": "stream",
     "text": [
      "2 4\n",
      "4 16\n",
      "6 64\n",
      "8 256\n",
      "10 1024\n"
     ]
    }
   ],
   "source": [
    "power = 0\n",
    "\n",
    "while True:\n",
    "    power += 1\n",
    "    number = 2**power\n",
    "\n",
    "    if power%2 != 0:\n",
    "        continue\n",
    "    \n",
    "    if number > 2500:\n",
    "        break\n",
    "    print(power, number)"
   ]
  },
  {
   "cell_type": "code",
   "execution_count": 15,
   "id": "d71fced4-3510-4ee1-bb64-2dfae542f053",
   "metadata": {},
   "outputs": [
    {
     "data": {
      "text/plain": [
       "10"
      ]
     },
     "execution_count": 15,
     "metadata": {},
     "output_type": "execute_result"
    }
   ],
   "source": [
    "number"
   ]
  },
  {
   "attachments": {},
   "cell_type": "markdown",
   "id": "fb905672",
   "metadata": {},
   "source": [
    "# List comprehension!"
   ]
  },
  {
   "attachments": {},
   "cell_type": "markdown",
   "id": "67bdee06",
   "metadata": {},
   "source": [
    "## Basic syntax"
   ]
  },
  {
   "cell_type": "code",
   "execution_count": 20,
   "id": "a1b8264d-7ec5-4b03-85ad-395b6bebf0df",
   "metadata": {},
   "outputs": [
    {
     "name": "stdout",
     "output_type": "stream",
     "text": [
      "0\n",
      "1\n",
      "2\n",
      "3\n",
      "4\n"
     ]
    }
   ],
   "source": [
    " for number in range(5):\n",
    "     print(number)"
   ]
  },
  {
   "cell_type": "code",
   "execution_count": 21,
   "id": "cfd99fb2-4619-4748-b6ba-73ab3be23f3a",
   "metadata": {},
   "outputs": [
    {
     "data": {
      "text/plain": [
       "[0, 1, 2, 3, 4]"
      ]
     },
     "execution_count": 21,
     "metadata": {},
     "output_type": "execute_result"
    }
   ],
   "source": [
    " [number for number in range(5)]"
   ]
  },
  {
   "cell_type": "code",
   "execution_count": 22,
   "id": "813c092c-f220-4a70-8ae4-43253e6fa017",
   "metadata": {},
   "outputs": [
    {
     "data": {
      "text/plain": [
       "[0, 1, 4, 9, 16]"
      ]
     },
     "execution_count": 22,
     "metadata": {},
     "output_type": "execute_result"
    }
   ],
   "source": [
    "[number**2 for number in range(5)]"
   ]
  },
  {
   "cell_type": "code",
   "execution_count": 23,
   "id": "efa1373c-691c-429f-a359-1535965fc4f3",
   "metadata": {},
   "outputs": [
    {
     "data": {
      "text/plain": [
       "[1, 2, 4, 8, 16]"
      ]
     },
     "execution_count": 23,
     "metadata": {},
     "output_type": "execute_result"
    }
   ],
   "source": [
    "[2**number for number in range(5)]"
   ]
  },
  {
   "attachments": {},
   "cell_type": "markdown",
   "id": "d740b618",
   "metadata": {},
   "source": [
    "## List comprehension with conditions"
   ]
  },
  {
   "cell_type": "code",
   "execution_count": 25,
   "id": "09a852aa-31a5-43a8-9821-da42722cd743",
   "metadata": {},
   "outputs": [
    {
     "data": {
      "text/plain": [
       "[1, 4, 16, 64, 256]"
      ]
     },
     "execution_count": 25,
     "metadata": {},
     "output_type": "execute_result"
    }
   ],
   "source": [
    "[2**power for power in range(10) if power%2==0]"
   ]
  },
  {
   "cell_type": "code",
   "execution_count": 26,
   "id": "4c4e2d84-d38b-4da1-b056-d3fd032eda57",
   "metadata": {},
   "outputs": [
    {
     "data": {
      "text/plain": [
       "['hahah 2 to the power 0 is 1',\n",
       " 'hahah 2 to the power 2 is 4',\n",
       " 'hahah 2 to the power 4 is 16',\n",
       " 'hahah 2 to the power 6 is 64',\n",
       " 'hahah 2 to the power 8 is 256']"
      ]
     },
     "execution_count": 26,
     "metadata": {},
     "output_type": "execute_result"
    }
   ],
   "source": [
    "[f'hahah 2 to the power {power} is {2**power}' for power in range(10) if power%2==0]"
   ]
  },
  {
   "attachments": {},
   "cell_type": "markdown",
   "id": "348e092e",
   "metadata": {},
   "source": [
    "# Other useful stuff"
   ]
  },
  {
   "attachments": {},
   "cell_type": "markdown",
   "id": "2ad9ad85",
   "metadata": {},
   "source": [
    "## `for` with unpacking"
   ]
  },
  {
   "cell_type": "markdown",
   "id": "e9f269aa-6803-41b2-a3d1-4a4577056992",
   "metadata": {},
   "source": [
    "### Unpacking?"
   ]
  },
  {
   "cell_type": "code",
   "execution_count": 27,
   "id": "01fd7c91-8fd3-4970-be25-d47a695ad9e9",
   "metadata": {},
   "outputs": [],
   "source": [
    "x,y,z=1,2,3"
   ]
  },
  {
   "cell_type": "code",
   "execution_count": 29,
   "id": "5042529e-b0ad-4067-9631-88abf0227e66",
   "metadata": {},
   "outputs": [],
   "source": [
    "x,y,z=[10,20,30]"
   ]
  },
  {
   "cell_type": "code",
   "execution_count": 30,
   "id": "17f3f8be-f8a9-4da8-9b99-fc1848c0d21b",
   "metadata": {},
   "outputs": [
    {
     "name": "stdout",
     "output_type": "stream",
     "text": [
      "x=10, y=20, z=30\n"
     ]
    }
   ],
   "source": [
    "print(f'{x=}, {y=}, {z=}')"
   ]
  },
  {
   "cell_type": "code",
   "execution_count": 25,
   "id": "92e344f7-ca2a-4de1-b666-6568c7cb41d0",
   "metadata": {},
   "outputs": [
    {
     "data": {
      "text/plain": [
       "[1, 4, 16, 64, 256]"
      ]
     },
     "execution_count": 25,
     "metadata": {},
     "output_type": "execute_result"
    }
   ],
   "source": [
    "x=[10,20,30]"
   ]
  },
  {
   "cell_type": "markdown",
   "id": "18a92e55-ebf3-4b00-bfd0-47ee5c28a9d3",
   "metadata": {},
   "source": [
    "### Unpacking with `for`"
   ]
  },
  {
   "cell_type": "code",
   "execution_count": 32,
   "id": "b858164f-1c52-4a1a-9118-33050191d2b3",
   "metadata": {},
   "outputs": [
    {
     "name": "stdout",
     "output_type": "stream",
     "text": [
      "Natasha Romanoff is Marvel's Black Widow!\n",
      "Tony Stark is Marvel's Iron Man!\n",
      "Stephen Strange is Marvel's Doctor Strange!\n"
     ]
    }
   ],
   "source": [
    "py_superhero_info = [\n",
    "    ['Natasha Romanoff', 'Black Widow'],\n",
    "    ['Tony Stark', 'Iron Man'],\n",
    "    ['Stephen Strange', 'Doctor Strange']\n",
    "]\n",
    "\n",
    "for real_name, super_name in py_superhero_info:\n",
    "    print(f\"{real_name} is Marvel's {super_name}!\")"
   ]
  },
  {
   "attachments": {},
   "cell_type": "markdown",
   "id": "902fa5bf",
   "metadata": {},
   "source": [
    "## `for` with zip()"
   ]
  },
  {
   "cell_type": "code",
   "execution_count": 34,
   "id": "042ac8e2-252b-42dc-b488-16bc943d654a",
   "metadata": {},
   "outputs": [],
   "source": [
    "super_names = [\"Black Widow\", \"Iron Man\", \"Doctor Strange\"]\n",
    "real_names = [\"Natasha Romanoff\", \"Tony Stark\", \"Stephen Strange\"]"
   ]
  },
  {
   "cell_type": "code",
   "execution_count": 37,
   "id": "4f3f91cb-a141-4304-87eb-a25629403afc",
   "metadata": {},
   "outputs": [
    {
     "data": {
      "text/plain": [
       "[('Natasha Romanoff', 'Black Widow', 'Black Widow'),\n",
       " ('Tony Stark', 'Iron Man', 'Iron Man'),\n",
       " ('Stephen Strange', 'Doctor Strange', 'Doctor Strange')]"
      ]
     },
     "execution_count": 37,
     "metadata": {},
     "output_type": "execute_result"
    }
   ],
   "source": [
    "list(zip(real_names, super_names, super_names))"
   ]
  },
  {
   "cell_type": "code",
   "execution_count": null,
   "id": "a7cef172-af59-4156-a86b-0e8fc4727883",
   "metadata": {},
   "outputs": [],
   "source": [
    "for real_name, super_name in zip(real_names,super_names):\n",
    "    print(f\"{real_name} is Marvel's {super_name}!\")"
   ]
  },
  {
   "cell_type": "markdown",
   "id": "2d497568-3058-454a-82ff-365c5b3a3c0b",
   "metadata": {},
   "source": [
    "## `for` with dictionaries"
   ]
  },
  {
   "cell_type": "markdown",
   "id": "999580e2-43af-402f-8553-4a99902991f1",
   "metadata": {},
   "source": [
    "### `keys()` and `values()`"
   ]
  },
  {
   "cell_type": "markdown",
   "id": "362e699c-61ff-4511-9560-b005a6223357",
   "metadata": {},
   "source": [
    "### `items()`"
   ]
  },
  {
   "cell_type": "code",
   "execution_count": 39,
   "id": "e9cc78de-e999-445c-8c5e-09d6c6a6cce0",
   "metadata": {},
   "outputs": [],
   "source": [
    "superhero_info={\"Natasha Romanoff\": \"Black Widow\",\n",
    "                \"Tony Stark\": \"Iron Man\",\n",
    "                \"Stephen Strange\": \"Doctor Strange\"}"
   ]
  },
  {
   "cell_type": "code",
   "execution_count": 41,
   "id": "2b8e26e5-c6f8-482c-a681-aa759bba2a11",
   "metadata": {},
   "outputs": [
    {
     "data": {
      "text/plain": [
       "[('Natasha Romanoff', 'Black Widow'),\n",
       " ('Tony Stark', 'Iron Man'),\n",
       " ('Stephen Strange', 'Doctor Strange')]"
      ]
     },
     "execution_count": 41,
     "metadata": {},
     "output_type": "execute_result"
    }
   ],
   "source": [
    "list(superhero_info.items())"
   ]
  },
  {
   "cell_type": "code",
   "execution_count": null,
   "id": "cf33efac-66e6-4234-8b3c-a392de38a2f4",
   "metadata": {},
   "outputs": [],
   "source": [
    "for key, value in superhero_info.items():\n",
    "    print(f\"{key} is Marvel's {value}!\")"
   ]
  },
  {
   "cell_type": "markdown",
   "id": "2f4526a4-b8ce-4a54-a433-d60a8ee6588e",
   "metadata": {},
   "source": [
    "### Directly access using key"
   ]
  },
  {
   "cell_type": "code",
   "execution_count": 42,
   "id": "66310c1e-b209-408a-af87-c6727f36a1d1",
   "metadata": {},
   "outputs": [
    {
     "data": {
      "text/plain": [
       "dict_keys(['Natasha Romanoff', 'Tony Stark', 'Stephen Strange'])"
      ]
     },
     "execution_count": 42,
     "metadata": {},
     "output_type": "execute_result"
    }
   ],
   "source": [
    "superhero_info.keys()"
   ]
  },
  {
   "cell_type": "code",
   "execution_count": 43,
   "id": "3879e76d-ff73-4d36-9a8b-3bced25b0ee1",
   "metadata": {},
   "outputs": [
    {
     "name": "stdout",
     "output_type": "stream",
     "text": [
      "Natasha Romanoff is Marvel's Black Widow!\n",
      "Tony Stark is Marvel's Iron Man!\n",
      "Stephen Strange is Marvel's Doctor Strange!\n"
     ]
    }
   ],
   "source": [
    "for key in superhero_info.keys():\n",
    "    value=superhero_info[key]\n",
    "    print(f\"{key} is Marvel's {value}!\")"
   ]
  }
 ],
 "metadata": {
  "kernelspec": {
   "display_name": "Python 3 (ipykernel)",
   "language": "python",
   "name": "python3"
  },
  "language_info": {
   "codemirror_mode": {
    "name": "ipython",
    "version": 3
   },
   "file_extension": ".py",
   "mimetype": "text/x-python",
   "name": "python",
   "nbconvert_exporter": "python",
   "pygments_lexer": "ipython3",
   "version": "3.11.5"
  },
  "toc": {
   "base_numbering": 1,
   "nav_menu": {},
   "number_sections": true,
   "sideBar": true,
   "skip_h1_title": false,
   "title_cell": "Table of Contents",
   "title_sidebar": "Contents",
   "toc_cell": false,
   "toc_position": {},
   "toc_section_display": true,
   "toc_window_display": false
  },
  "vscode": {
   "interpreter": {
    "hash": "31f2aee4e71d21fbe5cf8b01ff0e069b9275f58929596ceb00d14d90e3e16cd6"
   }
  }
 },
 "nbformat": 4,
 "nbformat_minor": 5
}
