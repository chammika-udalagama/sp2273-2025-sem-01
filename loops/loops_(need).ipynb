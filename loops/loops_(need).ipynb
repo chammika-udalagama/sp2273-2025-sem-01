{
 "cells": [
  {
   "attachments": {},
   "cell_type": "markdown",
   "id": "123456",
   "metadata": {},
   "source": [
    "<div style=\"text-align:left;font-size:2em\"><span style=\"font-weight:bolder;font-size:1.25em\">SP2273 | Learning Portfolio</span><br><br><span style=\"font-weight:bold;color:darkred\">Loops (Need)</span></div>"
   ]
  },
  {
   "attachments": {},
   "cell_type": "markdown",
   "id": "aa17ef85",
   "metadata": {},
   "source": [
    "# The `for` iterator"
   ]
  },
  {
   "cell_type": "markdown",
   "id": "960e2632-3757-43c3-8337-1b10968689cb",
   "metadata": {},
   "source": [
    "**Poor example**"
   ]
  },
  {
   "cell_type": "code",
   "execution_count": 2,
   "id": "17b86eea-c034-40f7-8a8f-3a71ffbecbcf",
   "metadata": {},
   "outputs": [],
   "source": [
    "real_names = [\"Natasha Romanoff\", \"Tony Stark\", \"Stephen Strange\"]"
   ]
  },
  {
   "cell_type": "code",
   "execution_count": 7,
   "id": "649e204a-7440-4e6a-88fe-6262936ce67f",
   "metadata": {},
   "outputs": [
    {
     "name": "stdout",
     "output_type": "stream",
     "text": [
      "NATASHA ROMANOFF is a Marvel superhero!\n",
      "TONY STARK is a Marvel superhero!\n",
      "STEPHEN STRANGE is a Marvel superhero!\n"
     ]
    }
   ],
   "source": [
    "name=real_names[0]\n",
    "print(f\"{name.upper()} is a Marvel superhero!\")\n",
    "\n",
    "name=real_names[1]\n",
    "print(f\"{name.upper()} is a Marvel superhero!\")\n",
    "\n",
    "name=real_names[2]\n",
    "print(f\"{name.upper()} is a Marvel superhero!\")\n"
   ]
  },
  {
   "attachments": {},
   "cell_type": "markdown",
   "id": "5019355d",
   "metadata": {},
   "source": [
    "## for with a list"
   ]
  },
  {
   "cell_type": "code",
   "execution_count": 2,
   "id": "facbd2b4-4773-46f5-b6f9-5a95237bfa36",
   "metadata": {},
   "outputs": [],
   "source": [
    "real_names = [\"Natasha Romanoff\", \"Tony Stark\", \"Stephen Strange\"]"
   ]
  },
  {
   "cell_type": "code",
   "execution_count": 16,
   "id": "ba6626c0-6b88-4d4d-9d75-43149ea60f25",
   "metadata": {},
   "outputs": [
    {
     "name": "stdout",
     "output_type": "stream",
     "text": [
      "--------------------------------------------------\n",
      "natasha romanoff is a Marvel superhero!\n",
      "--------------------------------------------------\n",
      "tony stark is a Marvel superhero!\n",
      "--------------------------------------------------\n",
      "stephen strange is a Marvel superhero!\n",
      "--------------------------------------------------\n"
     ]
    }
   ],
   "source": [
    "for sbngeacfsbvsfcbnaj_vcuasu in real_names:\n",
    "    print('-'*50)\n",
    "    print(f\"{sbngeacfsbvsfcbnaj_vcuasu.lower()} is a Marvel superhero!\")\n",
    "\n",
    "print('-'*50)"
   ]
  },
  {
   "cell_type": "code",
   "execution_count": 18,
   "id": "8eb6a1db-7c96-41b4-8522-4cd2df8a38d0",
   "metadata": {},
   "outputs": [
    {
     "name": "stdout",
     "output_type": "stream",
     "text": [
      "--------------------------------------------------\n",
      "natasha romanoff is a Marvel superhero!\n",
      "--------------------------------------------------\n",
      "tony stark is a Marvel superhero!\n",
      "--------------------------------------------------\n",
      "stephen strange is a Marvel superhero!\n",
      "--------------------------------------------------\n"
     ]
    }
   ],
   "source": [
    "for real_name in real_names:\n",
    "    print('-'*50)\n",
    "    print(f\"{real_name.lower()} is a Marvel superhero!\")\n",
    "\n",
    "print('-'*50)"
   ]
  },
  {
   "attachments": {},
   "cell_type": "markdown",
   "id": "6393ab42",
   "metadata": {},
   "source": [
    "## for with enumerate"
   ]
  },
  {
   "cell_type": "markdown",
   "id": "f81183bf-e6f5-467c-9953-fbb8d7bf9af1",
   "metadata": {},
   "source": [
    "### Basic use"
   ]
  },
  {
   "cell_type": "code",
   "execution_count": 19,
   "id": "77465ba0-927d-432b-bf85-33046d4d8070",
   "metadata": {},
   "outputs": [],
   "source": [
    "super_names = [\"Black Widow\", \"Iron Man\", \"Doctor Strange\"]\n",
    "real_names = [\"Natasha Romanoff\", \"Tony Stark\", \"Stephen Strange\"]"
   ]
  },
  {
   "cell_type": "code",
   "execution_count": 21,
   "id": "24cfca55-6650-43ab-b701-7e2acb9e33b7",
   "metadata": {},
   "outputs": [
    {
     "name": "stdout",
     "output_type": "stream",
     "text": [
      "0: Natasha Romanoff is a Marvel superhero!\n",
      "1: Tony Stark is a Marvel superhero!\n",
      "2: Stephen Strange is a Marvel superhero!\n"
     ]
    }
   ],
   "source": [
    "count = 0\n",
    "for real_name in real_names:\n",
    "    print(f'{count}: {real_name} is a Marvel superhero!')\n",
    "    count = count + 1"
   ]
  },
  {
   "cell_type": "code",
   "execution_count": 22,
   "id": "db3927b1-a7d3-4293-a3b2-d740c7ee7db5",
   "metadata": {},
   "outputs": [
    {
     "name": "stdout",
     "output_type": "stream",
     "text": [
      "0: Natasha Romanoff is a Marvel superhero!\n",
      "1: Tony Stark is a Marvel superhero!\n",
      "2: Stephen Strange is a Marvel superhero!\n"
     ]
    }
   ],
   "source": [
    "for count, real_name in enumerate(real_names):\n",
    "    print(f'{count}: {real_name} is a Marvel superhero!')"
   ]
  },
  {
   "cell_type": "markdown",
   "id": "c812fa54-5ed0-4c9f-ad5b-68a582021184",
   "metadata": {},
   "source": [
    "### Index other lists"
   ]
  },
  {
   "cell_type": "code",
   "execution_count": 31,
   "id": "b2b9c67b-bdc9-4bc4-ad18-1681bb0e6ada",
   "metadata": {},
   "outputs": [],
   "source": [
    "super_names = [\"Black Widow\", \"Iron Man\", \"Doctor Strange\"]\n",
    "real_names = [\"Natasha Romanoff\", \"Tony Stark\", \"Stephen Strange\"]\n",
    "universe = [\"Marvel\",\"Marvel\",\"Marvel\"]"
   ]
  },
  {
   "cell_type": "code",
   "execution_count": 32,
   "id": "a493a750-0475-4ecb-a5c7-07895789fb92",
   "metadata": {},
   "outputs": [
    {
     "name": "stdout",
     "output_type": "stream",
     "text": [
      "0 :Natasha Romanoff is Black Widow in the Marvel Universe!\n",
      "1 :Tony Stark is Iron Man in the Marvel Universe!\n",
      "2 :Stephen Strange is Doctor Strange in the Marvel Universe!\n"
     ]
    }
   ],
   "source": [
    "for index, real_name in enumerate(real_names):\n",
    "    superhero_name = super_names[index]\n",
    "    which_universe = universe[index]\n",
    "    print(f'{index} :{real_name} is {superhero_name} in the {which_universe} Universe!')"
   ]
  },
  {
   "cell_type": "markdown",
   "id": "ac5bdd8b-4b8c-4e05-9b98-a0f4cf4a7cec",
   "metadata": {},
   "source": [
    "### Can start counting anywhere"
   ]
  },
  {
   "cell_type": "code",
   "execution_count": 34,
   "id": "a1b273dc-16ed-4831-9004-fc8026bd7b0e",
   "metadata": {},
   "outputs": [
    {
     "name": "stdout",
     "output_type": "stream",
     "text": [
      "100: Natasha Romanoff is a Marvel superhero!\n",
      "101: Tony Stark is a Marvel superhero!\n",
      "102: Stephen Strange is a Marvel superhero!\n"
     ]
    }
   ],
   "source": [
    "for count, name in enumerate(real_names, start=100):\n",
    "    print(f'{count}: {name} is a Marvel superhero!')"
   ]
  },
  {
   "attachments": {},
   "cell_type": "markdown",
   "id": "cf09c3b0",
   "metadata": {},
   "source": [
    "## for with range"
   ]
  },
  {
   "cell_type": "markdown",
   "id": "1d8e4097-5443-4f17-9f5d-39b7c5b37f5f",
   "metadata": {},
   "source": [
    "**Example 1**"
   ]
  },
  {
   "cell_type": "code",
   "execution_count": 38,
   "id": "17a8d78a-6e28-4668-a9ee-7385482b3479",
   "metadata": {},
   "outputs": [
    {
     "data": {
      "text/plain": [
       "range(1, 5)"
      ]
     },
     "execution_count": 38,
     "metadata": {},
     "output_type": "execute_result"
    }
   ],
   "source": [
    "range(1,5)"
   ]
  },
  {
   "cell_type": "code",
   "execution_count": 2,
   "id": "aeef2a4f-9496-456a-a7ab-f7c846e644a9",
   "metadata": {},
   "outputs": [
    {
     "name": "stdout",
     "output_type": "stream",
     "text": [
      "5\n",
      "3\n"
     ]
    }
   ],
   "source": [
    "for i in range(5, 1, -2):\n",
    "    print(i)"
   ]
  },
  {
   "cell_type": "markdown",
   "id": "e387950b-982d-480e-bf24-871378c9e793",
   "metadata": {},
   "source": [
    "**Example 2**"
   ]
  },
  {
   "cell_type": "code",
   "execution_count": 44,
   "id": "84fd21ae-9008-4816-96e9-13a0a8d4421e",
   "metadata": {},
   "outputs": [
    {
     "name": "stdout",
     "output_type": "stream",
     "text": [
      "5\n",
      "6\n",
      "7\n",
      "8\n",
      "9\n"
     ]
    }
   ],
   "source": [
    "for i in range(5, 10):\n",
    "    print(i)"
   ]
  },
  {
   "cell_type": "markdown",
   "id": "b701ca05-1226-4455-949d-cbeafd23c9e3",
   "metadata": {},
   "source": [
    "**Example 3**"
   ]
  },
  {
   "cell_type": "code",
   "execution_count": 45,
   "id": "c46a1681-410a-4b73-9419-60cf8f3daf61",
   "metadata": {},
   "outputs": [
    {
     "name": "stdout",
     "output_type": "stream",
     "text": [
      "1\n",
      "4\n",
      "7\n"
     ]
    }
   ],
   "source": [
    "for i in range(1, 10, 3):\n",
    "    print(i)"
   ]
  },
  {
   "cell_type": "code",
   "execution_count": 46,
   "id": "384b4049-69fb-4117-954f-e6608df69a14",
   "metadata": {},
   "outputs": [
    {
     "name": "stdout",
     "output_type": "stream",
     "text": [
      "10\n",
      "7\n",
      "4\n"
     ]
    }
   ],
   "source": [
    "for i in range(10, 1, -3):\n",
    "    print(i)"
   ]
  },
  {
   "cell_type": "markdown",
   "id": "bbbba317-1aef-4c07-83ef-9f1d8392a002",
   "metadata": {},
   "source": [
    "### Still trying to print superhero names!"
   ]
  },
  {
   "cell_type": "code",
   "execution_count": 47,
   "id": "86853758-9c19-47bf-a3e1-fe36cba8fe47",
   "metadata": {},
   "outputs": [],
   "source": [
    "super_names = [\"Black Widow\", \"Iron Man\", \"Doctor Strange\"]\n",
    "real_names = [\"Natasha Romanoff\", \"Tony Stark\", \"Stephen Strange\"]\n",
    "universe = [\"Marvel\",\"Marvel\",\"Marvel\"]"
   ]
  },
  {
   "cell_type": "code",
   "execution_count": 50,
   "id": "45988980-36d7-40d0-ab24-b2f0329b7e5f",
   "metadata": {},
   "outputs": [
    {
     "data": {
      "text/plain": [
       "3"
      ]
     },
     "execution_count": 50,
     "metadata": {},
     "output_type": "execute_result"
    }
   ],
   "source": [
    "len(real_names)"
   ]
  },
  {
   "cell_type": "code",
   "execution_count": 58,
   "id": "f30c859b-c0d7-429c-a507-e5a977c2893c",
   "metadata": {},
   "outputs": [
    {
     "name": "stdout",
     "output_type": "stream",
     "text": [
      "0 :Natasha Romanoff is Black Widow in the Marvel Universe!\n",
      "1 :Tony Stark is Iron Man in the Marvel Universe!\n",
      "2 :Stephen Strange is Doctor Strange in the Marvel Universe!\n"
     ]
    }
   ],
   "source": [
    "for index in range(len(real_names)):   # range(3)\n",
    "    real_name = real_names[index]\n",
    "    super_name = super_names[index]   \n",
    "    which_universe = universe[index]\n",
    "    print(f'{index} :{real_name} is {super_name} in the {which_universe} Universe!')"
   ]
  },
  {
   "cell_type": "code",
   "execution_count": 56,
   "id": "85820f06-8d06-415c-91e1-196777c031a5",
   "metadata": {},
   "outputs": [
    {
     "name": "stdout",
     "output_type": "stream",
     "text": [
      "hahahah\n",
      "hahahah\n",
      "hahahah\n",
      "hahahah\n",
      "hahahah\n",
      "hahahah\n",
      "hahahah\n",
      "hahahah\n",
      "hahahah\n",
      "hahahah\n"
     ]
    }
   ],
   "source": [
    "for _ in range(10):\n",
    "    print('hahahah')"
   ]
  },
  {
   "attachments": {},
   "cell_type": "markdown",
   "id": "6f39c6d5",
   "metadata": {},
   "source": [
    "# while"
   ]
  },
  {
   "cell_type": "code",
   "execution_count": 57,
   "id": "e0c69916-6cd2-4c80-98ae-440e3d8ad46e",
   "metadata": {},
   "outputs": [
    {
     "name": "stdout",
     "output_type": "stream",
     "text": [
      "0\n",
      "1\n",
      "2\n",
      "3\n",
      "4\n"
     ]
    }
   ],
   "source": [
    "number = 0\n",
    "\n",
    "while number < 5:\n",
    "    print(number)\n",
    "    number += 1"
   ]
  },
  {
   "cell_type": "code",
   "execution_count": null,
   "id": "ac0f02b3-2498-448a-bfd6-b28c6f9d6f0b",
   "metadata": {},
   "outputs": [],
   "source": []
  }
 ],
 "metadata": {
  "kernelspec": {
   "display_name": "Python 3 (ipykernel)",
   "language": "python",
   "name": "python3"
  },
  "language_info": {
   "codemirror_mode": {
    "name": "ipython",
    "version": 3
   },
   "file_extension": ".py",
   "mimetype": "text/x-python",
   "name": "python",
   "nbconvert_exporter": "python",
   "pygments_lexer": "ipython3",
   "version": "3.11.5"
  },
  "toc": {
   "base_numbering": 1,
   "nav_menu": {},
   "number_sections": true,
   "sideBar": true,
   "skip_h1_title": false,
   "title_cell": "Table of Contents",
   "title_sidebar": "Contents",
   "toc_cell": false,
   "toc_position": {},
   "toc_section_display": true,
   "toc_window_display": false
  },
  "vscode": {
   "interpreter": {
    "hash": "31f2aee4e71d21fbe5cf8b01ff0e069b9275f58929596ceb00d14d90e3e16cd6"
   }
  }
 },
 "nbformat": 4,
 "nbformat_minor": 5
}
