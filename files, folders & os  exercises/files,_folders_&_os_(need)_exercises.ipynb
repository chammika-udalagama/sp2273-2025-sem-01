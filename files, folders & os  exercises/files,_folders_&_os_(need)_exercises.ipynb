{
 "cells": [
  {
   "attachments": {},
   "cell_type": "markdown",
   "id": "123456",
   "metadata": {},
   "source": [
    "<div style=\"text-align:left;font-size:2em\"><span style=\"font-weight:bolder;font-size:1.25em\">SP2273 | Learning Portfolio</span><br><br><span style=\"font-weight:bold;color:darkred\">Files, Folders & OS (Need) Exercises</span></div>"
   ]
  },
  {
   "cell_type": "markdown",
   "id": "5705a374-2afc-427f-9a30-2acf9f103c6b",
   "metadata": {},
   "source": [
    "# Important concepts"
   ]
  },
  {
   "cell_type": "code",
   "execution_count": null,
   "id": "90f57a0e-8eb0-4476-bd68-98d1a4d0eaa8",
   "metadata": {},
   "outputs": [],
   "source": []
  },
  {
   "cell_type": "markdown",
   "id": "75e6ee72-f843-4823-91aa-4b36da2061da",
   "metadata": {},
   "source": [
    "## Path"
   ]
  },
  {
   "cell_type": "code",
   "execution_count": null,
   "id": "0de7d856-eb95-4c4d-9d22-41fbe6ac3196",
   "metadata": {},
   "outputs": [],
   "source": []
  },
  {
   "cell_type": "markdown",
   "id": "d5efa342-2d28-4a50-a4e6-3b50bd3c27ba",
   "metadata": {},
   "source": [
    "## More about relative paths"
   ]
  },
  {
   "cell_type": "code",
   "execution_count": null,
   "id": "3a07991c-9bcd-4c0b-aefd-0f56f13481c6",
   "metadata": {},
   "outputs": [],
   "source": []
  },
  {
   "cell_type": "markdown",
   "id": "b18d4372-00e9-4ee4-ad78-d445875dfead",
   "metadata": {},
   "source": [
    "## Path separator"
   ]
  },
  {
   "cell_type": "code",
   "execution_count": null,
   "id": "f013c446-b44c-4e6c-be04-bb65f1f7398f",
   "metadata": {},
   "outputs": [],
   "source": []
  },
  {
   "cell_type": "markdown",
   "id": "39b90bef-05d6-4ab1-bb09-7b9c22d274b9",
   "metadata": {},
   "source": [
    "## Text files vs. Binary files"
   ]
  },
  {
   "cell_type": "code",
   "execution_count": null,
   "id": "e6e7706a-17e0-41c9-bf56-8109b1770e7c",
   "metadata": {},
   "outputs": [],
   "source": []
  },
  {
   "cell_type": "markdown",
   "id": "41d2ee92-3758-41a7-b210-e5b295de2642",
   "metadata": {},
   "source": [
    "## Extensions"
   ]
  },
  {
   "cell_type": "code",
   "execution_count": null,
   "id": "0a87489b-62d2-46bb-93b4-1aa28f005eab",
   "metadata": {},
   "outputs": [],
   "source": []
  },
  {
   "cell_type": "markdown",
   "id": "a6a8f0cd-bf16-4554-829a-e8af965cfa04",
   "metadata": {},
   "source": [
    "# Opening and closing files"
   ]
  },
  {
   "cell_type": "code",
   "execution_count": null,
   "id": "2e85e3b8-7c44-4630-999b-f21d6d8710eb",
   "metadata": {},
   "outputs": [],
   "source": []
  },
  {
   "cell_type": "markdown",
   "id": "f1294b75-1bd8-455d-b536-e54c957b225b",
   "metadata": {},
   "source": [
    "## Reading data"
   ]
  },
  {
   "cell_type": "code",
   "execution_count": null,
   "id": "a5e8b464-980f-409b-9978-b65b5dc3b4b8",
   "metadata": {},
   "outputs": [],
   "source": []
  },
  {
   "cell_type": "markdown",
   "id": "93841614-4a55-46e2-b76e-464ae40b958d",
   "metadata": {},
   "source": [
    "## Writing data"
   ]
  },
  {
   "cell_type": "code",
   "execution_count": null,
   "id": "be9eea6c-4abc-42bd-a0dc-112a5d7394be",
   "metadata": {},
   "outputs": [],
   "source": []
  },
  {
   "cell_type": "markdown",
   "id": "d4a95565-fa79-4989-8aac-6fc29cbf6491",
   "metadata": {},
   "source": [
    "### Writing to a file in one go"
   ]
  },
  {
   "cell_type": "code",
   "execution_count": null,
   "id": "3f593282-9852-4d6d-a724-be64ce778f07",
   "metadata": {},
   "outputs": [],
   "source": []
  },
  {
   "cell_type": "markdown",
   "id": "a8f65fb8-441f-4d61-8029-dfe80fc53f6e",
   "metadata": {},
   "source": [
    "### Writing to a file, line by line"
   ]
  },
  {
   "cell_type": "code",
   "execution_count": null,
   "id": "b40d771a-6a5c-4b18-89e6-7419f988566a",
   "metadata": {},
   "outputs": [],
   "source": []
  },
  {
   "cell_type": "markdown",
   "id": "afcc1383-72d1-4451-a1ef-434a608244c7",
   "metadata": {},
   "source": [
    "# Some useful packages"
   ]
  },
  {
   "cell_type": "code",
   "execution_count": null,
   "id": "29e57014-60f6-4b95-95d8-5860b2d03595",
   "metadata": {},
   "outputs": [],
   "source": []
  },
  {
   "cell_type": "markdown",
   "id": "57d95b5e-de5d-436e-acab-32b7e33e24f7",
   "metadata": {},
   "source": [
    "# OS safe paths"
   ]
  },
  {
   "cell_type": "code",
   "execution_count": null,
   "id": "e11d3916-1f27-4534-96d6-16c6dec9557b",
   "metadata": {},
   "outputs": [],
   "source": []
  },
  {
   "cell_type": "markdown",
   "id": "e72fffe7-fbd3-4a16-9824-ac565fcbb9ee",
   "metadata": {},
   "source": [
    "# Folders"
   ]
  },
  {
   "cell_type": "code",
   "execution_count": null,
   "id": "340f9ead-1f37-4573-a902-b1577e65846a",
   "metadata": {},
   "outputs": [],
   "source": []
  },
  {
   "cell_type": "markdown",
   "id": "2fc28e62-af43-41cb-95b6-61ec45e24e20",
   "metadata": {},
   "source": [
    "## Creating folders"
   ]
  },
  {
   "cell_type": "code",
   "execution_count": null,
   "id": "8a7f328e-b464-43d1-abff-f0ea4a273cd0",
   "metadata": {},
   "outputs": [],
   "source": []
  },
  {
   "cell_type": "markdown",
   "id": "c6ce610c-4861-427e-b797-a4375705da9d",
   "metadata": {},
   "source": [
    "## Checking for existence"
   ]
  },
  {
   "cell_type": "code",
   "execution_count": null,
   "id": "750b3349-f3f0-47ff-bc6c-debd9dcb7771",
   "metadata": {},
   "outputs": [],
   "source": []
  },
  {
   "cell_type": "markdown",
   "id": "abe61459-72da-44fd-8da1-1e7b11ff8745",
   "metadata": {},
   "source": [
    "### Using try-except"
   ]
  },
  {
   "cell_type": "code",
   "execution_count": null,
   "id": "5b808851-e9f7-400e-9c7e-33727fdf350b",
   "metadata": {},
   "outputs": [],
   "source": []
  },
  {
   "cell_type": "markdown",
   "id": "ad713371-b311-4c47-8ff5-1403fa5a5346",
   "metadata": {},
   "source": [
    "### Using os.path.exists()"
   ]
  },
  {
   "cell_type": "code",
   "execution_count": null,
   "id": "040926cc-b4d3-4094-b52c-971ea6fb3a15",
   "metadata": {},
   "outputs": [],
   "source": []
  },
  {
   "cell_type": "markdown",
   "id": "2cfe3525-ec89-449c-a34c-9128802dcda8",
   "metadata": {},
   "source": [
    "## Copying files"
   ]
  },
  {
   "cell_type": "code",
   "execution_count": null,
   "id": "617dbaae-f33a-48d0-9f5b-704fb0eb9199",
   "metadata": {},
   "outputs": [],
   "source": []
  },
  {
   "cell_type": "markdown",
   "id": "99078dd1-de7b-4bbc-a142-bdeec08a8387",
   "metadata": {},
   "source": [
    "# Listing and looking for files"
   ]
  },
  {
   "cell_type": "markdown",
   "id": "f1a16a61-d82c-47a1-8f04-311b0415224a",
   "metadata": {},
   "source": [
    "**Example 1**"
   ]
  },
  {
   "cell_type": "code",
   "execution_count": null,
   "id": "80ee3076-a483-4d98-bc5f-e9fe9c5f1f8b",
   "metadata": {},
   "outputs": [],
   "source": []
  },
  {
   "cell_type": "markdown",
   "id": "3cfe5cef-4330-4891-b8ea-5aa19993bf7a",
   "metadata": {},
   "source": [
    "**Example 2**"
   ]
  },
  {
   "cell_type": "code",
   "execution_count": null,
   "id": "3b75cc6b-f8e5-4a26-8aa1-06b73e05a71b",
   "metadata": {},
   "outputs": [],
   "source": []
  },
  {
   "cell_type": "markdown",
   "id": "532ee6f6-cfd6-4359-a08e-b3cfe3b5c023",
   "metadata": {},
   "source": [
    "**Example 3**"
   ]
  },
  {
   "cell_type": "code",
   "execution_count": null,
   "id": "360fdd90-3c7b-4de1-9122-b4cf5f81d609",
   "metadata": {},
   "outputs": [],
   "source": []
  },
  {
   "cell_type": "markdown",
   "id": "2b117448-deb1-4e93-9f84-223949b3350b",
   "metadata": {},
   "source": [
    "**Example 4**"
   ]
  },
  {
   "cell_type": "code",
   "execution_count": null,
   "id": "f102dda4-db8d-4d29-ba6e-141ec3726e2c",
   "metadata": {},
   "outputs": [],
   "source": []
  },
  {
   "cell_type": "markdown",
   "id": "5b16f7b3-c7aa-47ca-b336-e1fe5f9b579f",
   "metadata": {},
   "source": [
    "**Example 5**"
   ]
  },
  {
   "cell_type": "code",
   "execution_count": null,
   "id": "0a5f9829-7178-4d8e-86db-297a6c6082a8",
   "metadata": {},
   "outputs": [],
   "source": []
  },
  {
   "cell_type": "markdown",
   "id": "94fa95c7-f7de-4a8a-9257-deab4b576921",
   "metadata": {},
   "source": [
    "# Extracting file info"
   ]
  },
  {
   "cell_type": "code",
   "execution_count": null,
   "id": "d442462f-5e2f-44ee-8014-6c6a2b7e4dc5",
   "metadata": {},
   "outputs": [],
   "source": []
  },
  {
   "cell_type": "code",
   "execution_count": null,
   "id": "b791ddee-6113-4df8-8729-6e430304148a",
   "metadata": {},
   "outputs": [],
   "source": []
  },
  {
   "cell_type": "code",
   "execution_count": null,
   "id": "1157bcdf-51e3-4b50-983b-5cc3e2173bc0",
   "metadata": {},
   "outputs": [],
   "source": []
  },
  {
   "cell_type": "code",
   "execution_count": null,
   "id": "19a591af-0690-4060-b213-2f6ddf9ada79",
   "metadata": {},
   "outputs": [],
   "source": []
  },
  {
   "cell_type": "code",
   "execution_count": null,
   "id": "b45e811e-b4c6-48ae-bde6-33c43f04e437",
   "metadata": {},
   "outputs": [],
   "source": []
  },
  {
   "cell_type": "code",
   "execution_count": null,
   "id": "3187f501-82bd-4a4c-8940-a5ee0848bbe6",
   "metadata": {},
   "outputs": [],
   "source": []
  },
  {
   "cell_type": "markdown",
   "id": "50e97716-ac6e-4fad-b1a8-ad9ba3ff3676",
   "metadata": {},
   "source": [
    "# Deleting stuff"
   ]
  },
  {
   "cell_type": "code",
   "execution_count": null,
   "id": "d43153d7-cf5c-4594-af57-d4cccbc613a0",
   "metadata": {},
   "outputs": [],
   "source": []
  }
 ],
 "metadata": {
  "kernelspec": {
   "display_name": "Python 3 (ipykernel)",
   "language": "python",
   "name": "python3"
  },
  "language_info": {
   "codemirror_mode": {
    "name": "ipython",
    "version": 3
   },
   "file_extension": ".py",
   "mimetype": "text/x-python",
   "name": "python",
   "nbconvert_exporter": "python",
   "pygments_lexer": "ipython3",
   "version": "3.11.5"
  },
  "toc": {
   "base_numbering": 1,
   "nav_menu": {},
   "number_sections": true,
   "sideBar": true,
   "skip_h1_title": false,
   "title_cell": "Table of Contents",
   "title_sidebar": "Contents",
   "toc_cell": false,
   "toc_position": {},
   "toc_section_display": true,
   "toc_window_display": false
  },
  "vscode": {
   "interpreter": {
    "hash": "31f2aee4e71d21fbe5cf8b01ff0e069b9275f58929596ceb00d14d90e3e16cd6"
   }
  }
 },
 "nbformat": 4,
 "nbformat_minor": 5
}
