{
 "cells": [
  {
   "cell_type": "code",
   "execution_count": null,
   "id": "ee942b35-8a6b-4bfb-b664-1970822927d6",
   "metadata": {},
   "outputs": [],
   "source": [
    "!pwd # Mac"
   ]
  },
  {
   "cell_type": "code",
   "execution_count": null,
   "id": "02de20d7-e16d-4412-8e2e-30a17fb4f4f8",
   "metadata": {},
   "outputs": [],
   "source": [
    "!dir # Windows"
   ]
  },
  {
   "attachments": {},
   "cell_type": "markdown",
   "id": "123456",
   "metadata": {},
   "source": [
    "<div style=\"text-align:left;font-size:2em\"><span style=\"font-weight:bolder;font-size:1.25em\">SP2273 | Learning Portfolio</span><br><br><span style=\"font-weight:bold;color:darkred\">Files, Folders & OS (Need)</span></div>"
   ]
  },
  {
   "attachments": {},
   "cell_type": "markdown",
   "id": "0ff7d407",
   "metadata": {},
   "source": [
    "# Important concepts"
   ]
  },
  {
   "attachments": {},
   "cell_type": "markdown",
   "id": "d6b3773e",
   "metadata": {},
   "source": [
    "## Path"
   ]
  },
  {
   "cell_type": "code",
   "execution_count": null,
   "id": "b83897ed-ba76-442f-b1be-4f5a715fd2e1",
   "metadata": {},
   "outputs": [],
   "source": [
    "C:\\\\Users\\Chammika\\Desktop\\data-01.txt"
   ]
  },
  {
   "cell_type": "code",
   "execution_count": null,
   "id": "2be09ee2-5211-48ae-9fa0-3adeb438a98c",
   "metadata": {},
   "outputs": [],
   "source": [
    "!cd .."
   ]
  },
  {
   "attachments": {},
   "cell_type": "markdown",
   "id": "f6277e01",
   "metadata": {},
   "source": [
    "## More about relative paths"
   ]
  },
  {
   "cell_type": "markdown",
   "id": "63193b07-8cd5-4b88-9002-e83ffc707d75",
   "metadata": {},
   "source": [
    ". ---> THiS FOLDERe’"
   ]
  },
  {
   "cell_type": "code",
   "execution_count": null,
   "id": "0dc19276-5dfc-497c-978b-89e89060f06a",
   "metadata": {},
   "outputs": [],
   "source": [
    ".. #---> ONE FOLDER ABOVE"
   ]
  },
  {
   "cell_type": "code",
   "execution_count": null,
   "id": "6ba2408b-8755-4aae-9b2d-40de3750f008",
   "metadata": {},
   "outputs": [],
   "source": [
    "../../../data.txt"
   ]
  },
  {
   "attachments": {},
   "cell_type": "markdown",
   "id": "3b7a8598",
   "metadata": {},
   "source": [
    "### macOS or Linux"
   ]
  },
  {
   "cell_type": "code",
   "execution_count": null,
   "id": "d1ed70d0-ddc7-44e6-86bd-c657996ed23b",
   "metadata": {},
   "outputs": [],
   "source": [
    "my_path='C:\\\\\\\\Users\\\\chammika\\\\Desktop\\\\nata-01.txt'  # Windows"
   ]
  },
  {
   "cell_type": "code",
   "execution_count": null,
   "id": "f73c87c0-ab8e-4900-a082-f76d287e5b50",
   "metadata": {},
   "outputs": [],
   "source": [
    "print(my_path)"
   ]
  },
  {
   "cell_type": "code",
   "execution_count": null,
   "id": "577afeb6-57fd-4edd-8122-b45f31e49424",
   "metadata": {},
   "outputs": [],
   "source": [
    "/Users/chammika/Desktop/data-01.txt     # Mac"
   ]
  },
  {
   "cell_type": "code",
   "execution_count": null,
   "id": "e180c2f1-9d35-40e6-a433-da09663dc352",
   "metadata": {},
   "outputs": [],
   "source": [
    "'~/Desktop'"
   ]
  },
  {
   "attachments": {},
   "cell_type": "markdown",
   "id": "62c77c62",
   "metadata": {},
   "source": [
    "## Path separator"
   ]
  },
  {
   "cell_type": "code",
   "execution_count": null,
   "id": "aaa165b3-1509-42f1-a600-7a6a1e6d156a",
   "metadata": {},
   "outputs": [],
   "source": []
  },
  {
   "attachments": {},
   "cell_type": "markdown",
   "id": "f8608a3b",
   "metadata": {},
   "source": [
    "## Text files vs. Binary files"
   ]
  },
  {
   "cell_type": "code",
   "execution_count": null,
   "id": "e2e02483-ec71-4e00-b67f-cc336676b037",
   "metadata": {},
   "outputs": [],
   "source": []
  },
  {
   "attachments": {},
   "cell_type": "markdown",
   "id": "4cd17568",
   "metadata": {},
   "source": [
    "## Extensions"
   ]
  },
  {
   "cell_type": "code",
   "execution_count": null,
   "id": "0551b9de-9cf1-4510-bb60-c5b43f9899b0",
   "metadata": {},
   "outputs": [],
   "source": [
    "hahaha.ipynb"
   ]
  },
  {
   "cell_type": "code",
   "execution_count": null,
   "id": "93c313c5-cc85-4da6-8f6e-b7fb6045d120",
   "metadata": {},
   "outputs": [],
   "source": [
    "hahaha.xlsx"
   ]
  },
  {
   "attachments": {},
   "cell_type": "markdown",
   "id": "ffdc6eaa",
   "metadata": {},
   "source": [
    "# Opening and closing files"
   ]
  },
  {
   "attachments": {},
   "cell_type": "markdown",
   "id": "faeff202",
   "metadata": {},
   "source": [
    "## Reading data"
   ]
  },
  {
   "cell_type": "code",
   "execution_count": null,
   "id": "c28b7e2d-0477-480a-af38-b482ce5d8d22",
   "metadata": {},
   "outputs": [],
   "source": [
    "file = open('spectrum-01.txt', 'r')\n",
    "data=file.read()\n",
    "print(data)\n",
    "file.close()"
   ]
  },
  {
   "cell_type": "code",
   "execution_count": null,
   "id": "de003f1f-1535-4aa4-b4d2-d9dd2c29166a",
   "metadata": {},
   "outputs": [],
   "source": [
    "with open('spectrum-01.txt', 'r') as file:\n",
    "    file_content = file.read()\n",
    "\n",
    "print(file_content)"
   ]
  },
  {
   "cell_type": "code",
   "execution_count": null,
   "id": "9e632adc-7400-4849-867b-0b7863a92252",
   "metadata": {},
   "outputs": [],
   "source": [
    "with open('ha.xlsx', 'r') as file:\n",
    "    file_content = file.read()\n",
    "\n",
    "print(file_content)"
   ]
  },
  {
   "attachments": {},
   "cell_type": "markdown",
   "id": "eebff05a",
   "metadata": {},
   "source": [
    "## Writing data"
   ]
  },
  {
   "cell_type": "markdown",
   "id": "71a16f11-14a1-482f-b51c-df1c04e053f3",
   "metadata": {},
   "source": [
    "#### Some text to write"
   ]
  },
  {
   "cell_type": "code",
   "execution_count": 16,
   "id": "87a0c340-f3e3-4e0a-9575-012795ecaa70",
   "metadata": {},
   "outputs": [],
   "source": [
    "text = 'Far out in the uncharted backwaters of the unfashionable end of the western spiral arm of the Galaxy lies a small unregarded yellow sun.\\nOrbiting this at a distance of roughly ninety-two million miles is an utterly insignificant little blue green planet whose ape-descended life forms are so amazingly primitive that they still think digital watches are a pretty neat idea.'"
   ]
  },
  {
   "cell_type": "code",
   "execution_count": 17,
   "id": "8155fdfa-562a-43a7-8f2f-b070686c947b",
   "metadata": {},
   "outputs": [
    {
     "name": "stdout",
     "output_type": "stream",
     "text": [
      "Far out in the uncharted backwaters of the unfashionable end of the western spiral arm of the Galaxy lies a small unregarded yellow sun.\n",
      "Orbiting this at a distance of roughly ninety-two million miles is an utterly insignificant little blue green planet whose ape-descended life forms are so amazingly primitive that they still think digital watches are a pretty neat idea.\n"
     ]
    }
   ],
   "source": [
    "print(text)"
   ]
  },
  {
   "attachments": {},
   "cell_type": "markdown",
   "id": "485abf77",
   "metadata": {},
   "source": [
    "### Writing to a file in one go"
   ]
  },
  {
   "cell_type": "code",
   "execution_count": 25,
   "id": "33870ba9",
   "metadata": {},
   "outputs": [],
   "source": [
    "with open('my-text-once.txt', 'w') as file:\n",
    "    file.write(text)\n"
   ]
  },
  {
   "attachments": {},
   "cell_type": "markdown",
   "id": "bae1fee6",
   "metadata": {},
   "source": [
    "### Writing to a file, line by line"
   ]
  },
  {
   "cell_type": "code",
   "execution_count": null,
   "id": "c00c3bb4-cee8-47c5-b25b-ac308aa9d251",
   "metadata": {},
   "outputs": [],
   "source": []
  },
  {
   "cell_type": "code",
   "execution_count": null,
   "id": "50b72018",
   "metadata": {},
   "outputs": [],
   "source": [
    "with open('my-text-lines.txt', 'w') as file:\n",
    "    for line in text.splitlines():\n",
    "        file.writelines(line)"
   ]
  },
  {
   "cell_type": "code",
   "execution_count": null,
   "id": "c37d3d44-2c38-43dc-af26-8aeaca786de3",
   "metadata": {},
   "outputs": [],
   "source": [
    "text.splitlines()"
   ]
  },
  {
   "attachments": {},
   "cell_type": "markdown",
   "id": "da74a099",
   "metadata": {},
   "source": [
    "# Some useful packages"
   ]
  },
  {
   "cell_type": "code",
   "execution_count": 26,
   "id": "b58fa7f1-5106-4652-baaa-6c79070cfe1a",
   "metadata": {},
   "outputs": [],
   "source": [
    "import os\n",
    "import glob\n",
    "import shutil"
   ]
  },
  {
   "cell_type": "code",
   "execution_count": null,
   "id": "eb52b9fb-8e0d-464e-958f-b1eb7950e849",
   "metadata": {},
   "outputs": [],
   "source": []
  },
  {
   "attachments": {},
   "cell_type": "markdown",
   "id": "a3b20925",
   "metadata": {},
   "source": [
    "# OS safe paths"
   ]
  },
  {
   "cell_type": "code",
   "execution_count": 27,
   "id": "be0a22c6-457c-47c9-a1c6-b249932c4b2b",
   "metadata": {},
   "outputs": [
    {
     "name": "stdout",
     "output_type": "stream",
     "text": [
      ".\\all-data\\sg-data\\data-01.txt\n"
     ]
    }
   ],
   "source": [
    "path = os.path.join('.', 'all-data', 'sg-data', 'data-01.txt')\n",
    "print(path)"
   ]
  },
  {
   "attachments": {},
   "cell_type": "markdown",
   "id": "f1ace680",
   "metadata": {},
   "source": [
    "# Folders"
   ]
  },
  {
   "attachments": {},
   "cell_type": "markdown",
   "id": "6c9fb796",
   "metadata": {},
   "source": [
    "## Creating folders"
   ]
  },
  {
   "cell_type": "code",
   "execution_count": 36,
   "id": "db674040-f9c4-4970-9c0e-78c03fb300d1",
   "metadata": {},
   "outputs": [
    {
     "name": "stdout",
     "output_type": "stream",
     "text": [
      "Creating people\\John\n"
     ]
    },
    {
     "ename": "FileExistsError",
     "evalue": "[WinError 183] Cannot create a file when that file already exists: 'people\\\\John'",
     "output_type": "error",
     "traceback": [
      "\u001b[1;31m---------------------------------------------------------------------------\u001b[0m",
      "\u001b[1;31mFileExistsError\u001b[0m                           Traceback (most recent call last)",
      "Cell \u001b[1;32mIn[36], line 7\u001b[0m\n\u001b[0;32m      5\u001b[0m path \u001b[38;5;241m=\u001b[39m os\u001b[38;5;241m.\u001b[39mpath\u001b[38;5;241m.\u001b[39mjoin(\u001b[38;5;124m'\u001b[39m\u001b[38;5;124mpeople\u001b[39m\u001b[38;5;124m'\u001b[39m, person)\n\u001b[0;32m      6\u001b[0m \u001b[38;5;28mprint\u001b[39m(\u001b[38;5;124mf\u001b[39m\u001b[38;5;124m'\u001b[39m\u001b[38;5;124mCreating \u001b[39m\u001b[38;5;132;01m{\u001b[39;00mpath\u001b[38;5;132;01m}\u001b[39;00m\u001b[38;5;124m'\u001b[39m)\n\u001b[1;32m----> 7\u001b[0m os\u001b[38;5;241m.\u001b[39mmkdir(path)\n",
      "\u001b[1;31mFileExistsError\u001b[0m: [WinError 183] Cannot create a file when that file already exists: 'people\\\\John'"
     ]
    }
   ],
   "source": [
    "# os.mkdir('people')\n",
    "# os.mkdir('people')\n",
    "\n",
    "for person in ['John', 'Paul', 'Ringo']:\n",
    "    path = os.path.join('people', person)\n",
    "    print(f'Creating {path}')\n",
    "    os.mkdir(path)"
   ]
  },
  {
   "attachments": {},
   "cell_type": "markdown",
   "id": "56a387d8",
   "metadata": {},
   "source": [
    "## Checking for existence"
   ]
  },
  {
   "attachments": {},
   "cell_type": "markdown",
   "id": "5278cb09",
   "metadata": {},
   "source": [
    "### Using try-except"
   ]
  },
  {
   "cell_type": "code",
   "execution_count": 39,
   "id": "e1c02bbe",
   "metadata": {},
   "outputs": [
    {
     "name": "stdout",
     "output_type": "stream",
     "text": [
      "The people\\John already exists!\n",
      "Managed to create people\\Paul\n",
      "The people\\Ringo already exists!\n"
     ]
    }
   ],
   "source": [
    "for person in ['John', 'Paul', 'Ringo']:\n",
    "    path = os.path.join('people', person)\n",
    "    # print(f'Creating {path}')\n",
    "    try:\n",
    "        os.mkdir(path)\n",
    "        print(f'Managed to create {path}')\n",
    "    except FileExistsError:\n",
    "        print(f'The {path} already exists!')\n"
   ]
  },
  {
   "attachments": {},
   "cell_type": "markdown",
   "id": "37f9cc1a",
   "metadata": {},
   "source": [
    "### Using os.path.exists()"
   ]
  },
  {
   "cell_type": "code",
   "execution_count": 41,
   "id": "03f777ab",
   "metadata": {},
   "outputs": [
    {
     "name": "stdout",
     "output_type": "stream",
     "text": [
      "The people\\John already exists!\n",
      "The people\\Paul already exists!\n",
      "Managed to create people\\Ringo\n"
     ]
    }
   ],
   "source": [
    "for person in ['John', 'Paul', 'Ringo']:\n",
    "    path = os.path.join('people', person)\n",
    "    \n",
    "    if os.path.exists(path):\n",
    "        print(f'The {path} already exists!')\n",
    "    else:\n",
    "        os.mkdir(path)\n",
    "        print(f'Managed to create {path}')"
   ]
  },
  {
   "attachments": {},
   "cell_type": "markdown",
   "id": "1963f9af",
   "metadata": {},
   "source": [
    "## Copying files"
   ]
  },
  {
   "cell_type": "code",
   "execution_count": 83,
   "id": "9c326d97-0878-4d9b-be4d-7234ecc826bf",
   "metadata": {},
   "outputs": [],
   "source": [
    "files_to_copy = glob.glob('xx*/*.xlsx')"
   ]
  },
  {
   "cell_type": "code",
   "execution_count": 85,
   "id": "36ed6fae-3fd1-444d-bc10-e3e260e3c90d",
   "metadata": {},
   "outputs": [
    {
     "name": "stdout",
     "output_type": "stream",
     "text": [
      "Copied xxxxxxxxx\\ha - Copy (2).xlsx to people\\John\n",
      "Copied xxxxxxxxx\\ha - Copy (2).xlsx to people\\Paul\n",
      "Copied xxxxxxxxx\\ha - Copy (2).xlsx to people\\Ringo\n",
      "Copied xxxxxxxxx\\ha - Copy (3).xlsx to people\\John\n",
      "Copied xxxxxxxxx\\ha - Copy (3).xlsx to people\\Paul\n",
      "Copied xxxxxxxxx\\ha - Copy (3).xlsx to people\\Ringo\n",
      "Copied xxxxxxxxx\\ha - Copy (4).xlsx to people\\John\n",
      "Copied xxxxxxxxx\\ha - Copy (4).xlsx to people\\Paul\n",
      "Copied xxxxxxxxx\\ha - Copy (4).xlsx to people\\Ringo\n",
      "Copied xxxxxxxxx\\ha - Copy (5).xlsx to people\\John\n",
      "Copied xxxxxxxxx\\ha - Copy (5).xlsx to people\\Paul\n",
      "Copied xxxxxxxxx\\ha - Copy (5).xlsx to people\\Ringo\n",
      "Copied xxxxxxxxx\\ha - Copy (6).xlsx to people\\John\n",
      "Copied xxxxxxxxx\\ha - Copy (6).xlsx to people\\Paul\n",
      "Copied xxxxxxxxx\\ha - Copy (6).xlsx to people\\Ringo\n",
      "Copied xxxxxxxxx\\ha - Copy (7).xlsx to people\\John\n",
      "Copied xxxxxxxxx\\ha - Copy (7).xlsx to people\\Paul\n",
      "Copied xxxxxxxxx\\ha - Copy (7).xlsx to people\\Ringo\n",
      "Copied xxxxxxxxx\\ha - Copy (8).xlsx to people\\John\n",
      "Copied xxxxxxxxx\\ha - Copy (8).xlsx to people\\Paul\n",
      "Copied xxxxxxxxx\\ha - Copy (8).xlsx to people\\Ringo\n",
      "Copied xxxxxxxxx\\ha - Copy.xlsx to people\\John\n",
      "Copied xxxxxxxxx\\ha - Copy.xlsx to people\\Paul\n",
      "Copied xxxxxxxxx\\ha - Copy.xlsx to people\\Ringo\n",
      "Copied xxxxxxxxx\\ha.xlsx to people\\John\n",
      "Copied xxxxxxxxx\\ha.xlsx to people\\Paul\n",
      "Copied xxxxxxxxx\\ha.xlsx to people\\Ringo\n"
     ]
    }
   ],
   "source": [
    "# file_to_copy = 'sp2273_logo.png'\n",
    "# file_to_copy='spectrum-01.txt'\n",
    "for file_to_copy in files_to_copy:\n",
    "    for person in ['John', 'Paul', 'Ringo']:\n",
    "        path_to_destination = os.path.join('people', person)\n",
    "        \n",
    "        file_path = os.path.join(path_to_destination, file_to_copy)\n",
    "        \n",
    "        if os.path.exists(file_path):\n",
    "            print(f'{file_path} already exists! ')\n",
    "        else:\n",
    "            shutil.copy(file_to_copy, path_to_destination)\n",
    "            print(f'Copied {file_to_copy} to {path_to_destination}')"
   ]
  },
  {
   "cell_type": "code",
   "execution_count": 63,
   "id": "c40019c7-9fce-4693-9ae3-5c340e13780b",
   "metadata": {},
   "outputs": [
    {
     "name": "stdout",
     "output_type": "stream",
     "text": [
      "Moved logo from people\\John\\spectrum-01.txt to people\\John\\imgs\\spectrum-01.txt\n",
      "Moved logo from people\\Paul\\spectrum-01.txt to people\\Paul\\imgs\\spectrum-01.txt\n",
      "Moved logo from people\\Ringo\\spectrum-01.txt to people\\Ringo\\imgs\\spectrum-01.txt\n"
     ]
    }
   ],
   "source": [
    "\n",
    "\n",
    "for person in ['John', 'Paul', 'Ringo']:\n",
    "    # Create folder 'imgs'\n",
    "    path_to_imgs = os.path.join('people', person, 'imgs')\n",
    "    if not os.path.exists(path_to_imgs):\n",
    "        os.mkdir(path_to_imgs)\n",
    "    \n",
    "    # # Move logo file\n",
    "    current_path_of_logo = os.path.join('people', person, file_to_copy)\n",
    "    new_path_of_logo = os.path.join('people', person, 'imgs', file_to_copy)\n",
    "\n",
    "    shutil.move(current_path_of_logo, new_path_of_logo)\n",
    "    print(f'Moved logo from {current_path_of_logo} to {new_path_of_logo}')"
   ]
  },
  {
   "attachments": {},
   "cell_type": "markdown",
   "id": "0b3a38fd",
   "metadata": {},
   "source": [
    "# Listing and looking for files"
   ]
  },
  {
   "cell_type": "markdown",
   "id": "cfd030a1-b3af-4624-81de-9a0ef72792d7",
   "metadata": {},
   "source": [
    "**Example 1**"
   ]
  },
  {
   "cell_type": "code",
   "execution_count": 65,
   "id": "1d7efc52-542b-49bd-9edf-30cfed42fc11",
   "metadata": {},
   "outputs": [
    {
     "name": "stdout",
     "output_type": "stream",
     "text": [
      " Volume in drive C is WINDOWS\n",
      " Volume Serial Number is 5892-19B4\n",
      "\n",
      " Directory of C:\\Users\\phycnbu\\Desktop\\sp2273-template-for-2024\\files, folders & os\n",
      "\n",
      "14/02/2024  09:03 AM    <DIR>          .\n",
      "14/02/2024  09:03 AM    <DIR>          ..\n",
      "07/02/2024  09:16 AM    <DIR>          .ipynb_checkpoints\n",
      "14/02/2024  09:03 AM            19,700 files,_folders_&_os_(need).ipynb\n",
      "07/02/2024  09:39 AM             6,194 ha.xlsx\n",
      "14/02/2024  08:26 AM               374 my-text-once.txt\n",
      "14/02/2024  08:41 AM    <DIR>          people\n",
      "14/02/2024  08:43 AM           942,939 sp2273_logo.png\n",
      "07/02/2024  09:36 AM            10,713 spectrum-01.txt\n",
      "               5 File(s)        979,920 bytes\n",
      "               4 Dir(s)  117,868,638,208 bytes free\n"
     ]
    }
   ],
   "source": [
    "!dir"
   ]
  },
  {
   "cell_type": "code",
   "execution_count": 68,
   "id": "0122f5bb-259c-4c75-839d-3eb18de0ff69",
   "metadata": {},
   "outputs": [
    {
     "data": {
      "text/plain": [
       "['files,_folders_&_os_(need).ipynb',\n",
       " 'my-text-once.txt',\n",
       " 'people',\n",
       " 'spectrum-01.txt']"
      ]
     },
     "execution_count": 68,
     "metadata": {},
     "output_type": "execute_result"
    }
   ],
   "source": [
    "glob.glob('*e*')"
   ]
  },
  {
   "cell_type": "markdown",
   "id": "df4624a5-24f1-41b1-a62e-7116b4ce081f",
   "metadata": {},
   "source": [
    "**Example 2**"
   ]
  },
  {
   "cell_type": "code",
   "execution_count": 69,
   "id": "cbe9e7d5-79fa-4e2b-8d60-d1c6c15cc404",
   "metadata": {},
   "outputs": [
    {
     "data": {
      "text/plain": [
       "['people']"
      ]
     },
     "execution_count": 69,
     "metadata": {},
     "output_type": "execute_result"
    }
   ],
   "source": [
    "glob.glob('peo*')"
   ]
  },
  {
   "cell_type": "markdown",
   "id": "184a2997-ea5c-48c7-8700-6b65ff2a15b1",
   "metadata": {},
   "source": [
    "**Example 3**"
   ]
  },
  {
   "cell_type": "code",
   "execution_count": 76,
   "id": "7f46fb93-5891-4b19-bb18-c286bf2f6927",
   "metadata": {},
   "outputs": [
    {
     "data": {
      "text/plain": [
       "['people - Copy\\\\John\\\\imgs',\n",
       " 'people - Copy\\\\Paul\\\\imgs',\n",
       " 'people - Copy\\\\Ringo\\\\imgs']"
      ]
     },
     "execution_count": 76,
     "metadata": {},
     "output_type": "execute_result"
    }
   ],
   "source": [
    "glob.glob('peo*Co*/*/*')"
   ]
  },
  {
   "cell_type": "markdown",
   "id": "67c84bf2-e972-4c2e-ad26-caac726c3140",
   "metadata": {},
   "source": [
    "**Example 4**"
   ]
  },
  {
   "cell_type": "code",
   "execution_count": 79,
   "id": "2f1a8dca-79bf-4e4f-9f4e-c6ac2278e21a",
   "metadata": {},
   "outputs": [
    {
     "data": {
      "text/plain": [
       "['people\\\\',\n",
       " 'people\\\\John',\n",
       " 'people\\\\John\\\\imgs',\n",
       " 'people\\\\John\\\\imgs\\\\sp2273_logo.png',\n",
       " 'people\\\\John\\\\imgs\\\\spectrum-01.txt',\n",
       " 'people\\\\Paul',\n",
       " 'people\\\\Paul\\\\imgs',\n",
       " 'people\\\\Paul\\\\imgs\\\\sp2273_logo.png',\n",
       " 'people\\\\Paul\\\\imgs\\\\spectrum-01.txt',\n",
       " 'people\\\\Ringo',\n",
       " 'people\\\\Ringo\\\\imgs',\n",
       " 'people\\\\Ringo\\\\imgs\\\\people - Copy',\n",
       " 'people\\\\Ringo\\\\imgs\\\\people - Copy\\\\John',\n",
       " 'people\\\\Ringo\\\\imgs\\\\people - Copy\\\\John\\\\imgs',\n",
       " 'people\\\\Ringo\\\\imgs\\\\people - Copy\\\\John\\\\imgs\\\\sp2273_logo.png',\n",
       " 'people\\\\Ringo\\\\imgs\\\\people - Copy\\\\John\\\\imgs\\\\spectrum-01.txt',\n",
       " 'people\\\\Ringo\\\\imgs\\\\people - Copy\\\\Paul',\n",
       " 'people\\\\Ringo\\\\imgs\\\\people - Copy\\\\Paul\\\\imgs',\n",
       " 'people\\\\Ringo\\\\imgs\\\\people - Copy\\\\Paul\\\\imgs\\\\sp2273_logo.png',\n",
       " 'people\\\\Ringo\\\\imgs\\\\people - Copy\\\\Paul\\\\imgs\\\\spectrum-01.txt',\n",
       " 'people\\\\Ringo\\\\imgs\\\\people - Copy\\\\Ringo',\n",
       " 'people\\\\Ringo\\\\imgs\\\\people - Copy\\\\Ringo\\\\imgs',\n",
       " 'people\\\\Ringo\\\\imgs\\\\people - Copy\\\\Ringo\\\\imgs\\\\sp2273_logo.png',\n",
       " 'people\\\\Ringo\\\\imgs\\\\people - Copy\\\\Ringo\\\\imgs\\\\spectrum-01.txt',\n",
       " 'people\\\\Ringo\\\\imgs\\\\sp2273_logo.png',\n",
       " 'people\\\\Ringo\\\\imgs\\\\spectrum-01.txt']"
      ]
     },
     "execution_count": 79,
     "metadata": {},
     "output_type": "execute_result"
    }
   ],
   "source": [
    "glob.glob('people/**', recursive=True)"
   ]
  },
  {
   "cell_type": "markdown",
   "id": "98b032ff-5dc7-4616-835d-a6ee895ebfaf",
   "metadata": {},
   "source": [
    "**Example 5**"
   ]
  },
  {
   "cell_type": "code",
   "execution_count": 86,
   "id": "5037c415-f56b-4c43-9a38-6c7ec11461f7",
   "metadata": {},
   "outputs": [
    {
     "data": {
      "text/plain": [
       "['people\\\\John\\\\imgs\\\\sp2273_logo.png',\n",
       " 'people\\\\Paul\\\\imgs\\\\sp2273_logo.png',\n",
       " 'people\\\\Ringo\\\\imgs\\\\sp2273_logo.png',\n",
       " 'people\\\\Ringo\\\\imgs\\\\people - Copy\\\\John\\\\imgs\\\\sp2273_logo.png',\n",
       " 'people\\\\Ringo\\\\imgs\\\\people - Copy\\\\Paul\\\\imgs\\\\sp2273_logo.png',\n",
       " 'people\\\\Ringo\\\\imgs\\\\people - Copy\\\\Ringo\\\\imgs\\\\sp2273_logo.png']"
      ]
     },
     "execution_count": 86,
     "metadata": {},
     "output_type": "execute_result"
    }
   ],
   "source": [
    "glob.glob('people/**/*.png', recursive=True)"
   ]
  },
  {
   "attachments": {},
   "cell_type": "markdown",
   "id": "39e4a696",
   "metadata": {},
   "source": [
    "# Extracting file info"
   ]
  },
  {
   "cell_type": "markdown",
   "id": "1be3fb72-a7aa-426a-b0fc-d1f5674e1b9f",
   "metadata": {},
   "source": [
    "### Using our knowledge of subsetting"
   ]
  },
  {
   "cell_type": "code",
   "execution_count": 89,
   "id": "804327a5-3af3-4305-9d6b-05b88fcf8972",
   "metadata": {},
   "outputs": [
    {
     "data": {
      "text/plain": [
       "'\\\\'"
      ]
     },
     "execution_count": 89,
     "metadata": {},
     "output_type": "execute_result"
    }
   ],
   "source": [
    "os.path.sep"
   ]
  },
  {
   "cell_type": "code",
   "execution_count": 97,
   "id": "2ad0968f-ee8c-4af3-8c03-1300ff38355c",
   "metadata": {},
   "outputs": [
    {
     "name": "stdout",
     "output_type": "stream",
     "text": [
      "sp2273_logo has the extenstion png\n"
     ]
    }
   ],
   "source": [
    "path = 'people\\\\Ringo\\\\imgs\\\\sp2273_logo.png'\n",
    "filename = path.split(os.path.sep)[-1]\n",
    "extension = filename.split('.')[-1]\n",
    "name_only = filename.split('.')[0]\n",
    "print(name_only, 'has the extenstion' ,extension)"
   ]
  },
  {
   "cell_type": "markdown",
   "id": "7aa2a5a3-d17f-416a-8086-88b156aafa99",
   "metadata": {},
   "source": [
    "### Using the functions in OS"
   ]
  },
  {
   "cell_type": "code",
   "execution_count": 98,
   "id": "62aa0ce4-4617-45a5-8456-82bd29272f4f",
   "metadata": {},
   "outputs": [
    {
     "data": {
      "text/plain": [
       "('people\\\\Ringo\\\\imgs', 'sp2273_logo.png')"
      ]
     },
     "execution_count": 98,
     "metadata": {},
     "output_type": "execute_result"
    }
   ],
   "source": [
    "os.path.split(path)      # Split filename from the rest"
   ]
  },
  {
   "cell_type": "code",
   "execution_count": 99,
   "id": "ea3385d1-7446-499b-b005-3bf8ca11df37",
   "metadata": {},
   "outputs": [
    {
     "data": {
      "text/plain": [
       "('people\\\\Ringo\\\\imgs\\\\sp2273_logo', '.png')"
      ]
     },
     "execution_count": 99,
     "metadata": {},
     "output_type": "execute_result"
    }
   ],
   "source": [
    "os.path.splitext(path)   # Split extension"
   ]
  },
  {
   "cell_type": "code",
   "execution_count": 100,
   "id": "0b0b576a-7866-4822-87d4-8c090135fb0b",
   "metadata": {},
   "outputs": [
    {
     "data": {
      "text/plain": [
       "'people\\\\Ringo\\\\imgs'"
      ]
     },
     "execution_count": 100,
     "metadata": {},
     "output_type": "execute_result"
    }
   ],
   "source": [
    "os.path.dirname(path)    # Show the directory"
   ]
  },
  {
   "attachments": {},
   "cell_type": "markdown",
   "id": "bb03e6f8",
   "metadata": {},
   "source": [
    "# Deleting stuff"
   ]
  },
  {
   "cell_type": "code",
   "execution_count": null,
   "id": "729ad360-b2f9-4ad1-82b9-8a5f4f8f818c",
   "metadata": {},
   "outputs": [],
   "source": [
    "os.remove('people/Ringo/imgs/sp2273_logo.png')"
   ]
  },
  {
   "cell_type": "code",
   "execution_count": 101,
   "id": "b8117271-8e3e-4569-b899-ab22190abc0e",
   "metadata": {},
   "outputs": [
    {
     "ename": "OSError",
     "evalue": "[WinError 145] The directory is not empty: 'people/Ringo'",
     "output_type": "error",
     "traceback": [
      "\u001b[1;31m---------------------------------------------------------------------------\u001b[0m",
      "\u001b[1;31mOSError\u001b[0m                                   Traceback (most recent call last)",
      "Cell \u001b[1;32mIn[101], line 1\u001b[0m\n\u001b[1;32m----> 1\u001b[0m os\u001b[38;5;241m.\u001b[39mrmdir(\u001b[38;5;124m'\u001b[39m\u001b[38;5;124mpeople/Ringo\u001b[39m\u001b[38;5;124m'\u001b[39m)\n",
      "\u001b[1;31mOSError\u001b[0m: [WinError 145] The directory is not empty: 'people/Ringo'"
     ]
    }
   ],
   "source": [
    "os.rmdir('people/Ringo')"
   ]
  }
 ],
 "metadata": {
  "kernelspec": {
   "display_name": "Python 3 (ipykernel)",
   "language": "python",
   "name": "python3"
  },
  "language_info": {
   "codemirror_mode": {
    "name": "ipython",
    "version": 3
   },
   "file_extension": ".py",
   "mimetype": "text/x-python",
   "name": "python",
   "nbconvert_exporter": "python",
   "pygments_lexer": "ipython3",
   "version": "3.11.5"
  },
  "toc": {
   "base_numbering": 1,
   "nav_menu": {},
   "number_sections": true,
   "sideBar": true,
   "skip_h1_title": false,
   "title_cell": "Table of Contents",
   "title_sidebar": "Contents",
   "toc_cell": false,
   "toc_position": {},
   "toc_section_display": true,
   "toc_window_display": false
  },
  "vscode": {
   "interpreter": {
    "hash": "31f2aee4e71d21fbe5cf8b01ff0e069b9275f58929596ceb00d14d90e3e16cd6"
   }
  }
 },
 "nbformat": 4,
 "nbformat_minor": 5
}
