{
 "cells": [
  {
   "attachments": {},
   "cell_type": "markdown",
   "id": "123456",
   "metadata": {},
   "source": [
    "<div style=\"text-align:left;font-size:2em\"><span style=\"font-weight:bolder;font-size:1.25em\">SP2273 | Learning Portfolio</span><br><br><span style=\"font-weight:bold;color:darkred\">Using Jupyter (Need)</span></div>"
   ]
  },
  {
   "cell_type": "markdown",
   "id": "d0ff9aa0-a1ed-4abd-a89a-2d22a249c9b8",
   "metadata": {},
   "source": [
    "# A Traditinal Start"
   ]
  },
  {
   "cell_type": "code",
   "execution_count": 4,
   "id": "c4e996f2-5b36-4e74-a7bd-34655758a29d",
   "metadata": {},
   "outputs": [
    {
     "name": "stdout",
     "output_type": "stream",
     "text": [
      "Hello World!\n"
     ]
    }
   ],
   "source": [
    "print('Hello World!')"
   ]
  },
  {
   "attachments": {},
   "cell_type": "markdown",
   "id": "46a6664f",
   "metadata": {},
   "source": [
    "# All About Markdown"
   ]
  },
  {
   "cell_type": "markdown",
   "id": "21898fe0-5b4f-4315-ab00-41f029a9f519",
   "metadata": {},
   "source": [
    "The ships hung in the sky in much the same way that bricks don’t."
   ]
  },
  {
   "cell_type": "markdown",
   "id": "8b21a4f2-0f85-44a0-ac48-5becf469872e",
   "metadata": {},
   "source": [
    "The *ships hung in the sky* in much the same way that **bricks don’t**.<sup>1</sup><sub>QUOTE</sub>"
   ]
  },
  {
   "attachments": {},
   "cell_type": "markdown",
   "id": "eccf9072",
   "metadata": {},
   "source": [
    "## Heading"
   ]
  },
  {
   "cell_type": "markdown",
   "id": "44ec7039-7e21-4565-a67f-19738dac0628",
   "metadata": {},
   "source": [
    "# Top\n",
    "bglgadlcbashsfd\n",
    "\n",
    "## Lower\n",
    "xnlIOCcFNHF\n",
    "### Even Lower\n",
    "XNHiosdanhfshafdnhdsa\n",
    "#### Lowest\n",
    "gbocggasfhdc"
   ]
  },
  {
   "attachments": {},
   "cell_type": "markdown",
   "id": "b97914db",
   "metadata": {},
   "source": [
    "## Display Code"
   ]
  },
  {
   "cell_type": "markdown",
   "id": "6ba0d651-3e2b-4610-aa75-34c0ce42680a",
   "metadata": {},
   "source": [
    "`This is code`"
   ]
  },
  {
   "cell_type": "markdown",
   "id": "e825ffa3-48c1-478a-9353-cb8cd625bf15",
   "metadata": {},
   "source": [
    "```python\n",
    "print('hello World!')\n",
    "x=10\n",
    "```"
   ]
  },
  {
   "attachments": {},
   "cell_type": "markdown",
   "id": "8bc8fb9e",
   "metadata": {},
   "source": [
    "## Links"
   ]
  },
  {
   "cell_type": "markdown",
   "id": "9d606429-981f-4b19-a294-1cee3cf29385",
   "metadata": {},
   "source": [
    "[THIS IS LINK TEXT](https://sps.nus.edu.sg)"
   ]
  },
  {
   "cell_type": "markdown",
   "id": "8cb71e5c-d0e7-4b50-8645-307609c2dfc9",
   "metadata": {},
   "source": [
    "## Inserting Images"
   ]
  },
  {
   "cell_type": "markdown",
   "id": "2f02c121-7410-44c4-bc8b-ba56e00c0556",
   "metadata": {},
   "source": [
    "![](https://nus.edu.sg/images/default-source/base/logo.png)"
   ]
  },
  {
   "attachments": {},
   "cell_type": "markdown",
   "id": "78fa5e3f",
   "metadata": {},
   "source": [
    "## 4.7 Tables"
   ]
  },
  {
   "cell_type": "markdown",
   "id": "d2670bd5-8183-45d0-83ee-6f340eed8453",
   "metadata": {},
   "source": [
    "| A    |  B   |    C |\n",
    "| :--- | :--: | ---: |\n",
    "| a100000   |  b1  |   c1 |\n",
    "| a2   |  b2  |   c2 |\n",
    "| a3   |  b3  |   c3 |"
   ]
  },
  {
   "attachments": {},
   "cell_type": "markdown",
   "id": "7f7fbe0e",
   "metadata": {},
   "source": [
    "## 4.8 Lists"
   ]
  },
  {
   "cell_type": "markdown",
   "id": "841d8d62-8204-4ad8-88d2-9863bcb56672",
   "metadata": {},
   "source": [
    "### Numberer"
   ]
  },
  {
   "cell_type": "markdown",
   "id": "d27bf730-119a-4c35-9507-28945885dcf8",
   "metadata": {},
   "source": [
    "1. hggg\n",
    "   1. small\n",
    "   2. glbsildvsdhg \n",
    "1. aaaa\n",
    "    - gghdgsdjk\n",
    "    - nhsichgdjk \n",
    "1. dddd\n"
   ]
  },
  {
   "attachments": {},
   "cell_type": "markdown",
   "id": "c3bd6cd5",
   "metadata": {},
   "source": [
    "## 4.9 Equations"
   ]
  },
  {
   "cell_type": "markdown",
   "id": "f6701099-cf62-4825-8c6b-2aa29225b52a",
   "metadata": {},
   "source": [
    "This is a square $\\int x^2$."
   ]
  },
  {
   "cell_type": "markdown",
   "id": "94984f2d-d040-4eed-9380-33b2495aba68",
   "metadata": {},
   "source": [
    "$$\n",
    "x = \\dfrac{-b \\pm \\sqrt{b^2-4ac}}{2a}\r\n",
    "$$"
   ]
  },
  {
   "attachments": {},
   "cell_type": "markdown",
   "id": "c4a2e6ef",
   "metadata": {},
   "source": [
    "## Footnotes"
   ]
  },
  {
   "cell_type": "markdown",
   "id": "49cad59a-d0c3-4e3e-930c-09e343e7c0ec",
   "metadata": {},
   "source": [
    "This is a ggadklas^[footnote]"
   ]
  },
  {
   "cell_type": "code",
   "execution_count": null,
   "id": "39213164-e5f0-4499-bf11-497c20380210",
   "metadata": {},
   "outputs": [],
   "source": []
  }
 ],
 "metadata": {
  "kernelspec": {
   "display_name": "Python 3 (ipykernel)",
   "language": "python",
   "name": "python3"
  },
  "language_info": {
   "codemirror_mode": {
    "name": "ipython",
    "version": 3
   },
   "file_extension": ".py",
   "mimetype": "text/x-python",
   "name": "python",
   "nbconvert_exporter": "python",
   "pygments_lexer": "ipython3",
   "version": "3.11.5"
  },
  "toc": {
   "base_numbering": 1,
   "nav_menu": {},
   "number_sections": true,
   "sideBar": true,
   "skip_h1_title": false,
   "title_cell": "Table of Contents",
   "title_sidebar": "Contents",
   "toc_cell": false,
   "toc_position": {},
   "toc_section_display": true,
   "toc_window_display": false
  },
  "vscode": {
   "interpreter": {
    "hash": "31f2aee4e71d21fbe5cf8b01ff0e069b9275f58929596ceb00d14d90e3e16cd6"
   }
  }
 },
 "nbformat": 4,
 "nbformat_minor": 5
}
