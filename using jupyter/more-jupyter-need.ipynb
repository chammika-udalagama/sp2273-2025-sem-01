{
 "cells": [
  {
   "cell_type": "markdown",
   "id": "20ce2807",
   "metadata": {},
   "source": [
    "The ships *hung in the sky* in much the same way that **bricks don’t.**<sup>1</sup><sub>QUOTE</sub>\n",
    "\n"
   ]
  },
  {
   "cell_type": "markdown",
   "id": "5e0e3fc0",
   "metadata": {},
   "source": [
    "```python\n",
    "print('Hello')\n",
    "```"
   ]
  },
  {
   "cell_type": "markdown",
   "id": "d56868cf",
   "metadata": {},
   "source": [
    "You cab visit the SPS Website [here](https://sps.nus.edu.sg/sp2273)"
   ]
  },
  {
   "cell_type": "markdown",
   "id": "144c8520",
   "metadata": {},
   "source": [
    "![](https://static.wikia.nocookie.net/sillyman/images/3/3c/Kermit_the_Frog.png/revision/latest?cb=20241024094927)"
   ]
  },
  {
   "cell_type": "markdown",
   "id": "04c99331",
   "metadata": {},
   "source": [
    "| A    |  B   |    C |\n",
    "| :---: | :-- | ---: |\n",
    "| **a123**   |  b1556  |   555 |\n",
    "| a2   |  b2  |   c2 |\n",
    "| a3   |  b3  |   c3 |"
   ]
  },
  {
   "cell_type": "markdown",
   "id": "6bd83624",
   "metadata": {},
   "source": [
    "1. Master Yoda\n",
    "    - Luke Skywalker\n",
    "10. Anakin Skywalker"
   ]
  },
  {
   "cell_type": "markdown",
   "id": "45abbed9",
   "metadata": {},
   "source": [
    "This is half of $x^2$, $\\frac{1}{2}x^2$\n",
    "$$\\int_{x=0}^{x=10} x dx$$"
   ]
  },
  {
   "cell_type": "markdown",
   "id": "be1ed0ad",
   "metadata": {},
   "source": []
  }
 ],
 "metadata": {
  "kernelspec": {
   "display_name": "base",
   "language": "python",
   "name": "python3"
  },
  "language_info": {
   "codemirror_mode": {
    "name": "ipython",
    "version": 3
   },
   "file_extension": ".py",
   "mimetype": "text/x-python",
   "name": "python",
   "nbconvert_exporter": "python",
   "pygments_lexer": "ipython3",
   "version": "3.12.3"
  }
 },
 "nbformat": 4,
 "nbformat_minor": 5
}
