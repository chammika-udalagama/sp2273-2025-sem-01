{
 "cells": [
  {
   "attachments": {},
   "cell_type": "markdown",
   "id": "123456",
   "metadata": {},
   "source": [
    "<div style=\"text-align:left;font-size:2em\"><span style=\"font-weight:bolder;font-size:1.25em\">SP2273 | Learning Portfolio</span><br><br><span style=\"font-weight:bold;color:darkred\">Functions (Need)</span></div>"
   ]
  },
  {
   "cell_type": "code",
   "execution_count": 34,
   "id": "c3ecbfd1-24f1-4f5c-bcf2-b9f3ed3b4ac6",
   "metadata": {},
   "outputs": [],
   "source": [
    "import numpy as np"
   ]
  },
  {
   "attachments": {},
   "cell_type": "markdown",
   "id": "f547435a",
   "metadata": {},
   "source": [
    "# User-defined functions"
   ]
  },
  {
   "attachments": {},
   "cell_type": "markdown",
   "id": "e1b17997",
   "metadata": {},
   "source": [
    "## Named Functions"
   ]
  },
  {
   "attachments": {},
   "cell_type": "markdown",
   "id": "b287720a",
   "metadata": {},
   "source": [
    "### Named functions that return"
   ]
  },
  {
   "cell_type": "code",
   "execution_count": 23,
   "id": "50768697",
   "metadata": {},
   "outputs": [],
   "source": [
    "def greeting(name):\n",
    "    if name == 'Batman':\n",
    "        return 'Hello Batman! So, nice to meet you!'\n",
    "    else:\n",
    "        return f'Hello {name}!'"
   ]
  },
  {
   "cell_type": "code",
   "execution_count": 24,
   "id": "2fff742e-f83e-4022-b699-593824033545",
   "metadata": {},
   "outputs": [],
   "source": [
    "def greeting_again(name):\n",
    "    if name == 'Batman':\n",
    "        print('Hello Batman! So, nice to meet you!')\n",
    "    else:\n",
    "        print(f'Hello {name}!')\n",
    "\n",
    "    # return 'Wooooowoooo'"
   ]
  },
  {
   "cell_type": "code",
   "execution_count": 25,
   "id": "1ca589d6-f26b-48c6-a63b-0b47d95622a9",
   "metadata": {},
   "outputs": [
    {
     "name": "stdout",
     "output_type": "stream",
     "text": [
      "Hello haha!\n"
     ]
    }
   ],
   "source": [
    "### A\n",
    "output_A=greeting('haha')\n",
    "print(output_A)"
   ]
  },
  {
   "cell_type": "code",
   "execution_count": 26,
   "id": "aff1100a-1dd6-4e0a-80a9-325b67f5293d",
   "metadata": {},
   "outputs": [
    {
     "name": "stdout",
     "output_type": "stream",
     "text": [
      "Hello haha!\n",
      "Wooooowoooo\n"
     ]
    }
   ],
   "source": [
    "### B\n",
    "output_B=greeting_again('haha')\n",
    "print(output_B)"
   ]
  },
  {
   "cell_type": "code",
   "execution_count": 27,
   "id": "5bbd644a-5dda-41ea-9ceb-e42e3ab0d851",
   "metadata": {},
   "outputs": [
    {
     "name": "stdout",
     "output_type": "stream",
     "text": [
      "Hello haha! ------- Wooooowoooo\n"
     ]
    }
   ],
   "source": [
    "print(output_A,'-------', output_B)"
   ]
  },
  {
   "cell_type": "markdown",
   "id": "6351aa62-cc88-4cce-8d51-bd2b69f227c8",
   "metadata": {},
   "source": [
    "### How to call a function"
   ]
  },
  {
   "cell_type": "code",
   "execution_count": 29,
   "id": "579f124e-caf0-4821-a13a-ffd4583b9fa9",
   "metadata": {},
   "outputs": [
    {
     "data": {
      "text/plain": [
       "'Hello Spider Man!'"
      ]
     },
     "execution_count": 29,
     "metadata": {},
     "output_type": "execute_result"
    }
   ],
   "source": [
    "greeting(\"Spider Man\")"
   ]
  },
  {
   "cell_type": "code",
   "execution_count": 30,
   "id": "924b9ae2-0a8c-4532-a0a1-3c67ff8f4e7e",
   "metadata": {},
   "outputs": [
    {
     "data": {
      "text/plain": [
       "'Hello Spider Man!'"
      ]
     },
     "execution_count": 30,
     "metadata": {},
     "output_type": "execute_result"
    }
   ],
   "source": [
    "greeting(name=\"Spider Man\")"
   ]
  },
  {
   "cell_type": "markdown",
   "id": "291bf854-55cc-4b5d-aabd-6e990bd81b77",
   "metadata": {},
   "source": [
    "### Function: Returning multiple values"
   ]
  },
  {
   "cell_type": "code",
   "execution_count": 53,
   "id": "ac1e883f-3621-4d09-83e8-d17a8b8f9cbb",
   "metadata": {},
   "outputs": [],
   "source": [
    "def basic_stats(numbers):\n",
    "    np_numbers = np.array(numbers)\n",
    "    my_min = np_numbers.min()\n",
    "    my_max = np_numbers.max()\n",
    "    my_mean = np_numbers.mean()\n",
    "    \n",
    "    return [my_min, my_max, my_mean]"
   ]
  },
  {
   "cell_type": "code",
   "execution_count": 54,
   "id": "f83e8b5a-af37-4bbb-b1fd-7c451c0c12d5",
   "metadata": {},
   "outputs": [
    {
     "data": {
      "text/plain": [
       "[10, 467842, 109376.4]"
      ]
     },
     "execution_count": 54,
     "metadata": {},
     "output_type": "execute_result"
    }
   ],
   "source": [
    "basic_stats([10, 302, 78233, 467842, 495])"
   ]
  },
  {
   "cell_type": "code",
   "execution_count": 59,
   "id": "507c6503-c67d-4cb9-9c01-93dc2f9acc0b",
   "metadata": {},
   "outputs": [
    {
     "data": {
      "text/plain": [
       "[1, 5, 3.0]"
      ]
     },
     "execution_count": 59,
     "metadata": {},
     "output_type": "execute_result"
    }
   ],
   "source": [
    "basic_stats([1, 2, 3, 4, 5])"
   ]
  },
  {
   "cell_type": "code",
   "execution_count": 58,
   "id": "b7851be6-2a6c-4b5f-8b59-9452085b87c6",
   "metadata": {},
   "outputs": [],
   "source": [
    "list_min, list_max, list_mean = basic_stats([1, 2, 3, 4, 5])"
   ]
  },
  {
   "cell_type": "code",
   "execution_count": 57,
   "id": "e5aeca8a-dbd5-4101-8b63-f636c7c3530f",
   "metadata": {},
   "outputs": [
    {
     "name": "stdout",
     "output_type": "stream",
     "text": [
      "list_min=1, list_max=5, list_mean=3.0\n"
     ]
    }
   ],
   "source": [
    "print(f'{list_min=}, {list_max=}, {list_mean=}')"
   ]
  },
  {
   "attachments": {},
   "cell_type": "markdown",
   "id": "c415cd5e",
   "metadata": {},
   "source": [
    "### Named functions that don’t return"
   ]
  },
  {
   "attachments": {},
   "cell_type": "markdown",
   "id": "67dab4eb",
   "metadata": {},
   "source": [
    "## Anonymous functions"
   ]
  },
  {
   "cell_type": "code",
   "execution_count": 61,
   "id": "809df24d",
   "metadata": {},
   "outputs": [],
   "source": [
    "my_short_function = lambda name: f'Hello {name}'"
   ]
  },
  {
   "cell_type": "code",
   "execution_count": 62,
   "id": "15332d23-4531-4dac-b755-9e27077697a8",
   "metadata": {},
   "outputs": [
    {
     "data": {
      "text/plain": [
       "'Hello Hahahaha'"
      ]
     },
     "execution_count": 62,
     "metadata": {},
     "output_type": "execute_result"
    }
   ],
   "source": [
    "my_short_function('Hahahaha')"
   ]
  },
  {
   "cell_type": "markdown",
   "id": "c903efd5-15f8-4cd6-b91e-7468ce7bd984",
   "metadata": {},
   "source": [
    "**Example 1**"
   ]
  },
  {
   "cell_type": "code",
   "execution_count": null,
   "id": "2213cd43-8484-431a-9d6d-6053eda63e70",
   "metadata": {},
   "outputs": [],
   "source": []
  },
  {
   "cell_type": "code",
   "execution_count": null,
   "id": "3ede6018-ac2a-4cf3-a1be-d3c0d3942a54",
   "metadata": {},
   "outputs": [],
   "source": []
  },
  {
   "cell_type": "markdown",
   "id": "56d96a9c-3d79-4daa-9f79-3c85f567679b",
   "metadata": {},
   "source": [
    "**Example 2**"
   ]
  },
  {
   "cell_type": "code",
   "execution_count": 71,
   "id": "f78f1903-e8dc-41c2-a7f4-d223185a3d06",
   "metadata": {},
   "outputs": [
    {
     "data": {
      "text/plain": [
       "[[0, 9, -19],\n",
       " [1, 8, -18],\n",
       " [2, 7, -17],\n",
       " [3, 6, -16],\n",
       " [4, 5, -15],\n",
       " [5, 4, -14],\n",
       " [6, 3, -13],\n",
       " [7, 2, -12],\n",
       " [8, 1, -11],\n",
       " [9, 0, -10]]"
      ]
     },
     "execution_count": 71,
     "metadata": {},
     "output_type": "execute_result"
    }
   ],
   "source": [
    "numbers=[[9, 0, -10],\n",
    "         [8, 1, -11],\n",
    "         [7, 2, -12],\n",
    "         [6, 3, -13],\n",
    "         [5, 4, -14],\n",
    "         [4, 5, -15],\n",
    "         [3, 6, -16],\n",
    "         [2, 7, -17],\n",
    "         [1, 8, -18],\n",
    "         [0, 9, -19]]\n",
    "\n",
    "sorted(numbers, key=lambda x:sum(x))"
   ]
  },
  {
   "cell_type": "code",
   "execution_count": 66,
   "id": "3524e0ad-92a4-4ee5-927b-1c154fae353f",
   "metadata": {},
   "outputs": [
    {
     "data": {
      "text/plain": [
       "[[0, 9, -19],\n",
       " [1, 8, -18],\n",
       " [2, 7, -17],\n",
       " [3, 6, -16],\n",
       " [4, 5, -15],\n",
       " [5, 4, -14],\n",
       " [6, 3, -13],\n",
       " [7, 2, -12],\n",
       " [8, 1, -11],\n",
       " [9, 0, -10]]"
      ]
     },
     "execution_count": 66,
     "metadata": {},
     "output_type": "execute_result"
    }
   ],
   "source": []
  },
  {
   "cell_type": "code",
   "execution_count": null,
   "id": "40b7d131-cd9e-41e7-b7b3-49c24647b10a",
   "metadata": {},
   "outputs": [],
   "source": []
  },
  {
   "cell_type": "code",
   "execution_count": null,
   "id": "aec10856-4b21-4b22-acb6-b9b15d914376",
   "metadata": {},
   "outputs": [],
   "source": []
  },
  {
   "attachments": {},
   "cell_type": "markdown",
   "id": "c0706fa2",
   "metadata": {},
   "source": [
    "## Optional arguments"
   ]
  },
  {
   "cell_type": "code",
   "execution_count": 81,
   "id": "31f0cd3f-bbde-4539-9ff3-c841a32a700e",
   "metadata": {},
   "outputs": [],
   "source": [
    "def greeting(name='no one'):\n",
    "    if name == 'Batman':\n",
    "        return 'Hello Batman! So, nice to meet you!'\n",
    "    else:\n",
    "        return f'Hello {name}!'"
   ]
  },
  {
   "cell_type": "code",
   "execution_count": 82,
   "id": "a7174b4b-cbc1-4fba-989d-e7f7a42ab6d4",
   "metadata": {},
   "outputs": [
    {
     "data": {
      "text/plain": [
       "'Hello no one!'"
      ]
     },
     "execution_count": 82,
     "metadata": {},
     "output_type": "execute_result"
    }
   ],
   "source": [
    "greeting()"
   ]
  },
  {
   "cell_type": "code",
   "execution_count": 78,
   "id": "2beb8156-7f63-405f-8a4f-d42f45b13951",
   "metadata": {},
   "outputs": [
    {
     "data": {
      "text/plain": [
       "'Hello hahahaha!'"
      ]
     },
     "execution_count": 78,
     "metadata": {},
     "output_type": "execute_result"
    }
   ],
   "source": [
    "greeting(name='hahahaha')"
   ]
  },
  {
   "cell_type": "code",
   "execution_count": 85,
   "id": "9f162e7c-3b5b-4f0d-ae4e-63edf5a8a802",
   "metadata": {},
   "outputs": [
    {
     "name": "stdout",
     "output_type": "stream",
     "text": [
      "hahah-----HAusgfvgfgusdagebsg"
     ]
    }
   ],
   "source": [
    "print('hahah', end='-----HAusgfvgfgusdagebsg')"
   ]
  },
  {
   "cell_type": "code",
   "execution_count": null,
   "id": "00c18f61-f9c5-4d5c-81ca-fc8e3f679c6c",
   "metadata": {},
   "outputs": [],
   "source": [
    "print(*args, sep=' ', end='\\n', file=None, flush=False)"
   ]
  },
  {
   "cell_type": "code",
   "execution_count": 89,
   "id": "59e02766-ab41-4cb2-92f6-09a9a8328f94",
   "metadata": {},
   "outputs": [
    {
     "name": "stdout",
     "output_type": "stream",
     "text": [
      "Test AGAIN NOW ---\n"
     ]
    }
   ],
   "source": [
    "print('Test','AGAIN','NOW','---')"
   ]
  },
  {
   "cell_type": "code",
   "execution_count": 83,
   "id": "940c3da2-b78b-47ff-b621-c63ea1e5d1c8",
   "metadata": {},
   "outputs": [
    {
     "data": {
      "text/plain": [
       "\u001b[1;31mSignature:\u001b[0m \u001b[0mprint\u001b[0m\u001b[1;33m(\u001b[0m\u001b[1;33m*\u001b[0m\u001b[0margs\u001b[0m\u001b[1;33m,\u001b[0m \u001b[0msep\u001b[0m\u001b[1;33m=\u001b[0m\u001b[1;34m' '\u001b[0m\u001b[1;33m,\u001b[0m \u001b[0mend\u001b[0m\u001b[1;33m=\u001b[0m\u001b[1;34m'\\n'\u001b[0m\u001b[1;33m,\u001b[0m \u001b[0mfile\u001b[0m\u001b[1;33m=\u001b[0m\u001b[1;32mNone\u001b[0m\u001b[1;33m,\u001b[0m \u001b[0mflush\u001b[0m\u001b[1;33m=\u001b[0m\u001b[1;32mFalse\u001b[0m\u001b[1;33m)\u001b[0m\u001b[1;33m\u001b[0m\u001b[1;33m\u001b[0m\u001b[0m\n",
       "\u001b[1;31mDocstring:\u001b[0m\n",
       "Prints the values to a stream, or to sys.stdout by default.\n",
       "\n",
       "sep\n",
       "  string inserted between values, default a space.\n",
       "end\n",
       "  string appended after the last value, default a newline.\n",
       "file\n",
       "  a file-like object (stream); defaults to the current sys.stdout.\n",
       "flush\n",
       "  whether to forcibly flush the stream.\n",
       "\u001b[1;31mType:\u001b[0m      builtin_function_or_method"
      ]
     },
     "metadata": {},
     "output_type": "display_data"
    }
   ],
   "source": [
    "?print"
   ]
  },
  {
   "attachments": {},
   "cell_type": "markdown",
   "id": "07775075",
   "metadata": {},
   "source": [
    "## The importance of functions?"
   ]
  },
  {
   "attachments": {},
   "cell_type": "markdown",
   "id": "d99ba7a9",
   "metadata": {},
   "source": [
    "### An argument for functions"
   ]
  },
  {
   "cell_type": "code",
   "execution_count": null,
   "id": "2310e2e2",
   "metadata": {},
   "outputs": [],
   "source": [
    "\n",
    "# Your code here\n"
   ]
  },
  {
   "attachments": {},
   "cell_type": "markdown",
   "id": "f3251bf7",
   "metadata": {},
   "source": [
    "### A word of caution"
   ]
  },
  {
   "cell_type": "code",
   "execution_count": 95,
   "id": "3e271b5f",
   "metadata": {},
   "outputs": [],
   "source": [
    "\n",
    "numbers=[[9, 0, -10],\n",
    "         [8, 1, -11],\n",
    "         [7, 2, -12],\n",
    "         [6, 3, -13],\n",
    "         [5, 4, -14],\n",
    "         [4, 5, -15],\n",
    "         [3, 6, -16],\n",
    "         [2, 7, -17],\n",
    "         [1, 8, -18],\n",
    "         [0, 9, -19]]\n",
    "\n",
    "def my_sort_with_middle(numbers):\n",
    "\n",
    "    def my_func(x):\n",
    "        return x[1]-x[2]\n",
    "    \n",
    "    return sorted(numbers, key=my_func)\n"
   ]
  },
  {
   "cell_type": "code",
   "execution_count": 96,
   "id": "8fd41b41-9cc2-479d-aaa3-d0629db1fd09",
   "metadata": {},
   "outputs": [
    {
     "data": {
      "text/plain": [
       "[[9, 0, -10],\n",
       " [8, 1, -11],\n",
       " [7, 2, -12],\n",
       " [6, 3, -13],\n",
       " [5, 4, -14],\n",
       " [4, 5, -15],\n",
       " [3, 6, -16],\n",
       " [2, 7, -17],\n",
       " [1, 8, -18],\n",
       " [0, 9, -19]]"
      ]
     },
     "execution_count": 96,
     "metadata": {},
     "output_type": "execute_result"
    }
   ],
   "source": [
    "my_sort_with_middle(numbers)"
   ]
  },
  {
   "cell_type": "code",
   "execution_count": 97,
   "id": "207243c3-4760-4218-80f8-c71504722809",
   "metadata": {},
   "outputs": [
    {
     "ename": "NameError",
     "evalue": "name 'my_func' is not defined",
     "output_type": "error",
     "traceback": [
      "\u001b[1;31m--------------------------------------------------------\u001b[0m",
      "\u001b[1;31mNameError\u001b[0m              Traceback (most recent call last)",
      "Cell \u001b[1;32mIn[97], line 1\u001b[0m\n\u001b[1;32m----> 1\u001b[0m \u001b[43mmy_func\u001b[49m([\u001b[38;5;241m1\u001b[39m,\u001b[38;5;241m2\u001b[39m,\u001b[38;5;241m3\u001b[39m])\n",
      "\u001b[1;31mNameError\u001b[0m: name 'my_func' is not defined"
     ]
    }
   ],
   "source": [
    "my_func([1,2,3])"
   ]
  },
  {
   "cell_type": "code",
   "execution_count": null,
   "id": "eb0c4f41-4bd6-4974-936f-56305553a6fa",
   "metadata": {},
   "outputs": [],
   "source": []
  }
 ],
 "metadata": {
  "kernelspec": {
   "display_name": "Python 3 (ipykernel)",
   "language": "python",
   "name": "python3"
  },
  "language_info": {
   "codemirror_mode": {
    "name": "ipython",
    "version": 3
   },
   "file_extension": ".py",
   "mimetype": "text/x-python",
   "name": "python",
   "nbconvert_exporter": "python",
   "pygments_lexer": "ipython3",
   "version": "3.11.5"
  },
  "toc": {
   "base_numbering": 1,
   "nav_menu": {},
   "number_sections": true,
   "sideBar": true,
   "skip_h1_title": false,
   "title_cell": "Table of Contents",
   "title_sidebar": "Contents",
   "toc_cell": false,
   "toc_position": {},
   "toc_section_display": true,
   "toc_window_display": false
  },
  "vscode": {
   "interpreter": {
    "hash": "31f2aee4e71d21fbe5cf8b01ff0e069b9275f58929596ceb00d14d90e3e16cd6"
   }
  }
 },
 "nbformat": 4,
 "nbformat_minor": 5
}
