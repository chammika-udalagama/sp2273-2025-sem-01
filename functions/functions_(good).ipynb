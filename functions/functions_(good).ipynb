{
 "cells": [
  {
   "cell_type": "code",
   "execution_count": 44,
   "id": "f2037045-7133-4d6b-b00a-c60c663c7418",
   "metadata": {},
   "outputs": [],
   "source": [
    "import numpy as np"
   ]
  },
  {
   "attachments": {},
   "cell_type": "markdown",
   "id": "123456",
   "metadata": {},
   "source": [
    "<div style=\"text-align:left;font-size:2em\"><span style=\"font-weight:bolder;font-size:1.25em\">SP2273 | Learning Portfolio</span><br><br><span style=\"font-weight:bold;color:darkred\">Functions (Good)</span></div>"
   ]
  },
  {
   "attachments": {},
   "cell_type": "markdown",
   "id": "12913e52",
   "metadata": {},
   "source": [
    "# Checks, balances, and contingencies"
   ]
  },
  {
   "attachments": {},
   "cell_type": "markdown",
   "id": "551fe03d",
   "metadata": {},
   "source": [
    "## assert"
   ]
  },
  {
   "cell_type": "markdown",
   "id": "af703f13-4703-4456-b9c3-b71fea5e2ebb",
   "metadata": {},
   "source": [
    "### Basic Syntax"
   ]
  },
  {
   "cell_type": "code",
   "execution_count": null,
   "id": "22817493-a8a6-477c-a0da-01a56ee3db71",
   "metadata": {},
   "outputs": [],
   "source": [
    "x = 100"
   ]
  },
  {
   "cell_type": "code",
   "execution_count": null,
   "id": "838f086d-d10d-490d-93da-f0c43a5a0432",
   "metadata": {},
   "outputs": [],
   "source": [
    "assert x < 10, \"Hahahah\""
   ]
  },
  {
   "cell_type": "markdown",
   "id": "629d8bb7-4036-4a2b-aa90-bda2f4904a46",
   "metadata": {},
   "source": [
    "### Will and Will not work"
   ]
  },
  {
   "cell_type": "code",
   "execution_count": null,
   "id": "1777699d-21e9-4add-bf01-c6298ffdf852",
   "metadata": {},
   "outputs": [],
   "source": [
    "x = 10\n",
    "assert x >= 0, \"x is becoming negative!\""
   ]
  },
  {
   "cell_type": "code",
   "execution_count": null,
   "id": "f23841e1-c664-4515-8469-5702ea6ee478",
   "metadata": {},
   "outputs": [],
   "source": [
    "x = -1\n",
    "assert x >= 0, \"x is becoming negative!\""
   ]
  },
  {
   "attachments": {},
   "cell_type": "markdown",
   "id": "59505109",
   "metadata": {},
   "source": [
    "## try-except"
   ]
  },
  {
   "cell_type": "markdown",
   "id": "41b71fc7-8d07-43f1-9143-9bd08ced0b9f",
   "metadata": {},
   "source": [
    "### Example of things that can go wrong"
   ]
  },
  {
   "cell_type": "code",
   "execution_count": null,
   "id": "d82265bd-a199-4cc8-88a9-9b5ad6e2525a",
   "metadata": {},
   "outputs": [],
   "source": [
    "number=input(\"Give me a number and I will calculate its square.\")\n",
    "square=int(number)**2              # Convert English to number\n",
    "print(f'The square of {number} is {square}!')"
   ]
  },
  {
   "cell_type": "markdown",
   "id": "03d363d7-921e-43a5-9047-719a7b8b238d",
   "metadata": {},
   "source": [
    "### Protecting with `try-except`"
   ]
  },
  {
   "cell_type": "code",
   "execution_count": 11,
   "id": "3e67dae6-e373-4fcf-9f44-48ae7ebe32aa",
   "metadata": {},
   "outputs": [
    {
     "name": "stdin",
     "output_type": "stream",
     "text": [
      "Give me a number and I will calculate its square. four\n"
     ]
    },
    {
     "name": "stdout",
     "output_type": "stream",
     "text": [
      "You did soemthing naughty\n"
     ]
    }
   ],
   "source": [
    "try:\n",
    "    number=input(\"Give me a number and I will calculate its square.\")\n",
    "    square=int(number)**2              # Convert English to number\n",
    "    print(f'The square of {number} is {square}!')\n",
    "except:\n",
    "    print('You did something naughty')"
   ]
  },
  {
   "attachments": {},
   "cell_type": "markdown",
   "id": "aecccab0",
   "metadata": {},
   "source": [
    "## A simple suggestion"
   ]
  },
  {
   "cell_type": "code",
   "execution_count": 16,
   "id": "7fc306f0-af25-4d99-9744-d43d61923bb4",
   "metadata": {},
   "outputs": [],
   "source": [
    "numbers=[]\n",
    "for i in range(10000):\n",
    "    # if i%1000==0:\n",
    "    #     print(f'I am adding {i} now, to your list.')\n",
    "    numbers.append(i)"
   ]
  },
  {
   "cell_type": "code",
   "execution_count": 13,
   "id": "aefc5ade-79e1-43d4-8545-640fd10b0991",
   "metadata": {},
   "outputs": [
    {
     "data": {
      "text/plain": [
       "[0, 1, 2, 3, 4, 5, 6, 7, 8, 9]"
      ]
     },
     "execution_count": 13,
     "metadata": {},
     "output_type": "execute_result"
    }
   ],
   "source": [
    "numbers"
   ]
  },
  {
   "attachments": {},
   "cell_type": "markdown",
   "id": "df84fdb3",
   "metadata": {},
   "source": [
    "# Some loose ends"
   ]
  },
  {
   "attachments": {},
   "cell_type": "markdown",
   "id": "a200c4e0",
   "metadata": {},
   "source": [
    "## Positional, keyword and default arguments"
   ]
  },
  {
   "cell_type": "code",
   "execution_count": 19,
   "id": "db7e6943-2317-412a-8de2-28cc6f56cee6",
   "metadata": {},
   "outputs": [],
   "source": [
    "def side_by_side(a, b, c=42):\n",
    "    return f'{a: 2d}---{b: 2d}---{c: 2d}'"
   ]
  },
  {
   "cell_type": "code",
   "execution_count": null,
   "id": "c097acf8-c1e8-4ca7-91c3-d482df18c85b",
   "metadata": {},
   "outputs": [],
   "source": [
    "side_by_side(1,3,2)\n",
    "side_by_side(a=1, b=3, c=2)"
   ]
  },
  {
   "cell_type": "markdown",
   "id": "6fc4966f-a5c0-4639-bc6c-956cc95991cf",
   "metadata": {},
   "source": [
    "### Positional"
   ]
  },
  {
   "cell_type": "code",
   "execution_count": 22,
   "id": "217fd0ac-ca86-4648-b098-d670082f8a53",
   "metadata": {},
   "outputs": [
    {
     "data": {
      "text/plain": [
       "' 1--- 3--- 2'"
      ]
     },
     "execution_count": 22,
     "metadata": {},
     "output_type": "execute_result"
    }
   ],
   "source": [
    "side_by_side(1,3,2)"
   ]
  },
  {
   "cell_type": "markdown",
   "id": "ce5e0ba0-e49e-43ed-8c64-395e16fd17cd",
   "metadata": {},
   "source": [
    "### Keyword"
   ]
  },
  {
   "cell_type": "code",
   "execution_count": 24,
   "id": "2810d9e0-ad19-416d-8144-a239518a88fe",
   "metadata": {},
   "outputs": [
    {
     "data": {
      "text/plain": [
       "' 1--- 3--- 2'"
      ]
     },
     "execution_count": 24,
     "metadata": {},
     "output_type": "execute_result"
    }
   ],
   "source": [
    "side_by_side(a=1, b=3, c=2)"
   ]
  },
  {
   "cell_type": "code",
   "execution_count": 25,
   "id": "b0a312b9-30e6-46a2-b007-dbf6a537c3ce",
   "metadata": {},
   "outputs": [
    {
     "data": {
      "text/plain": [
       "' 1--- 3--- 2'"
      ]
     },
     "execution_count": 25,
     "metadata": {},
     "output_type": "execute_result"
    }
   ],
   "source": [
    "side_by_side(c=2, b=3, a=1)   # order does not matter"
   ]
  },
  {
   "cell_type": "markdown",
   "id": "cfde6046-1e1a-46c5-8579-311e127da2b7",
   "metadata": {},
   "source": [
    "### Default"
   ]
  },
  {
   "cell_type": "code",
   "execution_count": 26,
   "id": "e607b43b-2755-4f01-b388-4dab7b0ccdbe",
   "metadata": {},
   "outputs": [
    {
     "data": {
      "text/plain": [
       "' 1--- 2--- 42'"
      ]
     },
     "execution_count": 26,
     "metadata": {},
     "output_type": "execute_result"
    }
   ],
   "source": [
    "side_by_side(1, b=2)"
   ]
  },
  {
   "cell_type": "code",
   "execution_count": 27,
   "id": "ad4a62f5-2769-49ac-9f2d-c6812d4d0abb",
   "metadata": {},
   "outputs": [
    {
     "ename": "SyntaxError",
     "evalue": "positional argument follows keyword argument (3572775471.py, line 1)",
     "output_type": "error",
     "traceback": [
      "\u001b[1;36m  Cell \u001b[1;32mIn[27], line 1\u001b[1;36m\u001b[0m\n\u001b[1;33m    side_by_side(b=2, 1)\u001b[0m\n\u001b[1;37m                       ^\u001b[0m\n\u001b[1;31mSyntaxError\u001b[0m\u001b[1;31m:\u001b[0m positional argument follows keyword argument\n"
     ]
    }
   ],
   "source": [
    "side_by_side(b=2, 1)"
   ]
  },
  {
   "cell_type": "markdown",
   "id": "e6009aab-58b1-4e6f-a6c4-ccc39f6d7132",
   "metadata": {},
   "source": [
    "### A bunch of examples of how to use"
   ]
  },
  {
   "cell_type": "code",
   "execution_count": 28,
   "id": "56a2050d-ee5d-4eb0-9567-013a00a195a5",
   "metadata": {},
   "outputs": [
    {
     "data": {
      "text/plain": [
       "' 1--- 2--- 42'"
      ]
     },
     "execution_count": 28,
     "metadata": {},
     "output_type": "execute_result"
    }
   ],
   "source": [
    "side_by_side(1, 2)           # Two positional, 1 default"
   ]
  },
  {
   "cell_type": "code",
   "execution_count": 29,
   "id": "27930d37-e990-4706-8624-770921c34913",
   "metadata": {},
   "outputs": [
    {
     "data": {
      "text/plain": [
       "' 1--- 2--- 3'"
      ]
     },
     "execution_count": 29,
     "metadata": {},
     "output_type": "execute_result"
    }
   ],
   "source": [
    "side_by_side(1, 2, 3)        # Three positional"
   ]
  },
  {
   "cell_type": "code",
   "execution_count": 30,
   "id": "51765764-edf0-4cf3-b0c1-129d5b27c34b",
   "metadata": {},
   "outputs": [
    {
     "data": {
      "text/plain": [
       "' 1--- 2--- 42'"
      ]
     },
     "execution_count": 30,
     "metadata": {},
     "output_type": "execute_result"
    }
   ],
   "source": [
    "side_by_side(a=1, b=2)       # Two keyword, 1 default"
   ]
  },
  {
   "cell_type": "code",
   "execution_count": 38,
   "id": "2e086647-44c2-4667-b748-60bfcde0e0a3",
   "metadata": {},
   "outputs": [
    {
     "data": {
      "text/plain": [
       "' 2--- 1--- 3'"
      ]
     },
     "execution_count": 38,
     "metadata": {},
     "output_type": "execute_result"
    }
   ],
   "source": [
    "side_by_side(\n",
    "    c=3, \n",
    "    b=1, \n",
    "    a=2\n",
    ")  # Three keyword"
   ]
  },
  {
   "cell_type": "code",
   "execution_count": 34,
   "id": "cfcf087e-e2b3-444f-aa41-ed082f5f7446",
   "metadata": {},
   "outputs": [
    {
     "data": {
      "text/plain": [
       "' 1--- 2--- 3'"
      ]
     },
     "execution_count": 34,
     "metadata": {},
     "output_type": "execute_result"
    }
   ],
   "source": [
    "side_by_side(1, c=3, b=2)"
   ]
  },
  {
   "cell_type": "code",
   "execution_count": 35,
   "id": "ae279727-8c71-4871-9b28-a3efc4c86dc7",
   "metadata": {},
   "outputs": [
    {
     "ename": "TypeError",
     "evalue": "side_by_side() got multiple values for argument 'a'",
     "output_type": "error",
     "traceback": [
      "\u001b[1;31m---------------------------------------------------------------------------\u001b[0m",
      "\u001b[1;31mTypeError\u001b[0m                                 Traceback (most recent call last)",
      "Cell \u001b[1;32mIn[35], line 1\u001b[0m\n\u001b[1;32m----> 1\u001b[0m side_by_side(\u001b[38;5;241m1\u001b[39m, c\u001b[38;5;241m=\u001b[39m\u001b[38;5;241m3\u001b[39m, b\u001b[38;5;241m=\u001b[39m\u001b[38;5;241m2\u001b[39m, a\u001b[38;5;241m=\u001b[39m\u001b[38;5;241m2\u001b[39m)\n",
      "\u001b[1;31mTypeError\u001b[0m: side_by_side() got multiple values for argument 'a'"
     ]
    }
   ],
   "source": [
    "side_by_side(1, c=3, b=2, a=2)"
   ]
  },
  {
   "cell_type": "code",
   "execution_count": 36,
   "id": "d475eae7-f472-4854-8fd8-f34796b01584",
   "metadata": {},
   "outputs": [
    {
     "data": {
      "text/plain": [
       "' 1--- 2--- 42'"
      ]
     },
     "execution_count": 36,
     "metadata": {},
     "output_type": "execute_result"
    }
   ],
   "source": [
    "side_by_side(1, b=2)  "
   ]
  },
  {
   "cell_type": "markdown",
   "id": "aff19438-0e5e-4677-b7ee-969aafdc6e89",
   "metadata": {},
   "source": [
    "### This won't work"
   ]
  },
  {
   "cell_type": "code",
   "execution_count": 37,
   "id": "7ec61a69-df7e-4fee-a3b0-c547535530a3",
   "metadata": {},
   "outputs": [
    {
     "ename": "SyntaxError",
     "evalue": "positional argument follows keyword argument (344034311.py, line 1)",
     "output_type": "error",
     "traceback": [
      "\u001b[1;36m  Cell \u001b[1;32mIn[37], line 1\u001b[1;36m\u001b[0m\n\u001b[1;33m    side_by_side(a=2, 1)\u001b[0m\n\u001b[1;37m                       ^\u001b[0m\n\u001b[1;31mSyntaxError\u001b[0m\u001b[1;31m:\u001b[0m positional argument follows keyword argument\n"
     ]
    }
   ],
   "source": [
    "side_by_side(a=2, 1)"
   ]
  },
  {
   "attachments": {},
   "cell_type": "markdown",
   "id": "5ecae2ae",
   "metadata": {},
   "source": [
    "## Docstrings"
   ]
  },
  {
   "cell_type": "markdown",
   "id": "7c43108b-aada-4c5f-819c-48a5e69f3f06",
   "metadata": {},
   "source": [
    "### Writing a docstring"
   ]
  },
  {
   "cell_type": "code",
   "execution_count": 39,
   "id": "e7a36be4-7f6e-462c-a8f2-bb021f079a9b",
   "metadata": {},
   "outputs": [],
   "source": [
    "def side_by_side(a, b, c=42):\r\n",
    "    '''\r\n",
    "    A test function to demonstrate how \r\n",
    "    positional, keyword and default arguments \r\n",
    "    work.\r\n",
    "    '''\r\n",
    "    return f'{a: 2d}|{b: 2d}|{c: 2d}'"
   ]
  },
  {
   "cell_type": "markdown",
   "id": "5a68fe21-bd94-45cb-8548-bbb1696087d2",
   "metadata": {},
   "source": [
    "###  Extracting a doc string"
   ]
  },
  {
   "cell_type": "code",
   "execution_count": 40,
   "id": "b913c465-c1a9-4717-8a60-28741fa16a32",
   "metadata": {},
   "outputs": [
    {
     "name": "stdout",
     "output_type": "stream",
     "text": [
      "Help on function side_by_side in module __main__:\n",
      "\n",
      "side_by_side(a, b, c=42)\n",
      "    A test function to demonstrate how \n",
      "    positional, keyword and default arguments \n",
      "    work.\n",
      "\n"
     ]
    }
   ],
   "source": [
    "help(side_by_side)"
   ]
  },
  {
   "cell_type": "code",
   "execution_count": 41,
   "id": "621ff5db-56fa-438f-a2c3-e288a326bbdb",
   "metadata": {},
   "outputs": [
    {
     "data": {
      "text/plain": [
       "\u001b[1;31mSignature:\u001b[0m \u001b[0mside_by_side\u001b[0m\u001b[1;33m(\u001b[0m\u001b[0ma\u001b[0m\u001b[1;33m,\u001b[0m \u001b[0mb\u001b[0m\u001b[1;33m,\u001b[0m \u001b[0mc\u001b[0m\u001b[1;33m=\u001b[0m\u001b[1;36m42\u001b[0m\u001b[1;33m)\u001b[0m\u001b[1;33m\u001b[0m\u001b[1;33m\u001b[0m\u001b[0m\n",
       "\u001b[1;31mDocstring:\u001b[0m\n",
       "A test function to demonstrate how \n",
       "positional, keyword and default arguments \n",
       "work.\n",
       "\u001b[1;31mFile:\u001b[0m      c:\\users\\phycnbu\\appdata\\local\\temp\\ipykernel_23912\\350907102.py\n",
       "\u001b[1;31mType:\u001b[0m      function"
      ]
     },
     "metadata": {},
     "output_type": "display_data"
    }
   ],
   "source": [
    "?side_by_side"
   ]
  },
  {
   "attachments": {},
   "cell_type": "markdown",
   "id": "66cf4950",
   "metadata": {},
   "source": [
    "## Function are first-class citizens"
   ]
  },
  {
   "cell_type": "code",
   "execution_count": 50,
   "id": "122f4e72-3742-476c-a721-c1050956e377",
   "metadata": {},
   "outputs": [],
   "source": [
    "def my_function(angle, input_function):\n",
    "    return input_function(angle)"
   ]
  },
  {
   "cell_type": "code",
   "execution_count": null,
   "id": "e3613004-7013-4d6f-99af-1123e74a2e1d",
   "metadata": {},
   "outputs": [],
   "source": [
    "np.sin(12344)"
   ]
  },
  {
   "cell_type": "code",
   "execution_count": 56,
   "id": "cd2c7436-0038-4644-856b-9e5af0d8d90b",
   "metadata": {},
   "outputs": [
    {
     "data": {
      "text/plain": [
       "1.2246467991473532e-16"
      ]
     },
     "execution_count": 56,
     "metadata": {},
     "output_type": "execute_result"
    }
   ],
   "source": [
    "my_function(angle=np.pi, input_function=np.sin)   # np.sin(angle)"
   ]
  },
  {
   "cell_type": "code",
   "execution_count": 52,
   "id": "27166da2-98a3-40fd-8c29-25036c354e71",
   "metadata": {},
   "outputs": [
    {
     "data": {
      "text/plain": [
       "-1.0"
      ]
     },
     "execution_count": 52,
     "metadata": {},
     "output_type": "execute_result"
    }
   ],
   "source": [
    "my_function(angle=np.pi, input_function=np.cos)  # np.cos(angle)"
   ]
  },
  {
   "cell_type": "code",
   "execution_count": 53,
   "id": "4eac207f-415f-4879-b774-e83d790a8ba1",
   "metadata": {},
   "outputs": [
    {
     "name": "stdout",
     "output_type": "stream",
     "text": [
      "3.141592653589793\n"
     ]
    }
   ],
   "source": [
    "my_function(angle=np.pi, input_function=print)  # print(angle)"
   ]
  },
  {
   "cell_type": "code",
   "execution_count": 54,
   "id": "e85c8c4b-2485-4c77-9887-b800b1986a86",
   "metadata": {},
   "outputs": [
    {
     "data": {
      "text/plain": [
       "23.01119705467915"
      ]
     },
     "execution_count": 54,
     "metadata": {},
     "output_type": "execute_result"
    }
   ],
   "source": [
    "my_function(angle=np.pi, input_function=lambda x:x**2+x+10)"
   ]
  },
  {
   "attachments": {},
   "cell_type": "markdown",
   "id": "a6e39c33",
   "metadata": {},
   "source": [
    "## More about unpacking"
   ]
  },
  {
   "cell_type": "markdown",
   "id": "a79ca1f1-b60e-4c94-a2aa-5c4300a0ace0",
   "metadata": {},
   "source": [
    "**Example 1**"
   ]
  },
  {
   "cell_type": "code",
   "execution_count": 57,
   "id": "354d34fe-60e6-4f64-8d4b-d863140fee0a",
   "metadata": {},
   "outputs": [
    {
     "data": {
      "text/plain": [
       "(1, 2, 3)"
      ]
     },
     "execution_count": 57,
     "metadata": {},
     "output_type": "execute_result"
    }
   ],
   "source": [
    "x, y, z = [1, 2, 3]\n",
    "x, y, z"
   ]
  },
  {
   "cell_type": "markdown",
   "id": "da68cd93-3e2e-4467-95fe-c9696fdfbfeb",
   "metadata": {},
   "source": [
    "**Example 2**"
   ]
  },
  {
   "cell_type": "code",
   "execution_count": 58,
   "id": "034aaca8-6b57-4765-a159-cadf77565a2d",
   "metadata": {},
   "outputs": [
    {
     "data": {
      "text/plain": [
       "(1, 2, 3)"
      ]
     },
     "execution_count": 58,
     "metadata": {},
     "output_type": "execute_result"
    }
   ],
   "source": [
    "x, y, z = np.array([1, 2, 3])\n",
    "x, y, z"
   ]
  },
  {
   "cell_type": "markdown",
   "id": "02b5c205-27cb-44ba-9ed8-b4e6ebcafb04",
   "metadata": {},
   "source": [
    "**Example 3**"
   ]
  },
  {
   "cell_type": "code",
   "execution_count": 60,
   "id": "02a22959-5262-4d7f-b0b2-fe5e18144cf2",
   "metadata": {},
   "outputs": [
    {
     "data": {
      "text/plain": [
       "(1, [2, 3, 4], 5)"
      ]
     },
     "execution_count": 60,
     "metadata": {},
     "output_type": "execute_result"
    }
   ],
   "source": [
    "x, *y, z = np.array([1, 2, 3,4,5])\n",
    "x, y, z"
   ]
  },
  {
   "cell_type": "code",
   "execution_count": 65,
   "id": "ca1e3181-6d76-4816-84c7-91cf182dfd55",
   "metadata": {},
   "outputs": [
    {
     "data": {
      "text/plain": [
       "([1, 2, 3], 4, 5)"
      ]
     },
     "execution_count": 65,
     "metadata": {},
     "output_type": "execute_result"
    }
   ],
   "source": [
    "*x, y, z = np.array([1, 2, 3,4,5])\n",
    "x, y, z"
   ]
  },
  {
   "cell_type": "markdown",
   "id": "9e474232-c607-49e7-aaf1-f73b787220f2",
   "metadata": {},
   "source": [
    "**Example 4**"
   ]
  },
  {
   "cell_type": "code",
   "execution_count": 61,
   "id": "b77e1e77-d394-42d6-9f27-d6b462388464",
   "metadata": {},
   "outputs": [
    {
     "data": {
      "text/plain": [
       "(1, 5)"
      ]
     },
     "execution_count": 61,
     "metadata": {},
     "output_type": "execute_result"
    }
   ],
   "source": [
    "x, *_, z = np.array([1, 2, 3,4,5])\n",
    "x, z"
   ]
  },
  {
   "cell_type": "code",
   "execution_count": null,
   "id": "ffa43bb3-4568-415d-abb8-0a591566c126",
   "metadata": {},
   "outputs": [],
   "source": []
  }
 ],
 "metadata": {
  "kernelspec": {
   "display_name": "Python 3 (ipykernel)",
   "language": "python",
   "name": "python3"
  },
  "language_info": {
   "codemirror_mode": {
    "name": "ipython",
    "version": 3
   },
   "file_extension": ".py",
   "mimetype": "text/x-python",
   "name": "python",
   "nbconvert_exporter": "python",
   "pygments_lexer": "ipython3",
   "version": "3.11.5"
  },
  "toc": {
   "base_numbering": 1,
   "nav_menu": {},
   "number_sections": true,
   "sideBar": true,
   "skip_h1_title": false,
   "title_cell": "Table of Contents",
   "title_sidebar": "Contents",
   "toc_cell": false,
   "toc_position": {},
   "toc_section_display": true,
   "toc_window_display": false
  },
  "vscode": {
   "interpreter": {
    "hash": "31f2aee4e71d21fbe5cf8b01ff0e069b9275f58929596ceb00d14d90e3e16cd6"
   }
  }
 },
 "nbformat": 4,
 "nbformat_minor": 5
}
