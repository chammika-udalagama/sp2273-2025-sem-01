{
 "cells": [
  {
   "cell_type": "markdown",
   "id": "123456",
   "metadata": {},
   "source": [
    "<div style=\"text-align:left;font-size:2em\"><span style=\"font-weight:bolder;font-size:1.25em\">SP2273 | Learning Portfolio</span><br><br><span style=\"font-weight:bold;color:darkred\">Plotting (Good)</span></div>"
   ]
  },
  {
   "cell_type": "markdown",
   "id": "854019fc",
   "metadata": {},
   "source": [
    "# Some nomenclature"
   ]
  },
  {
   "cell_type": "markdown",
   "id": "ad945ffc-6b10-4600-9e21-930bbae2b7d5",
   "metadata": {},
   "source": [
    "- figures\n",
    "- axes\n",
    "- x and y axes\n",
    "- `twinx()`"
   ]
  },
  {
   "cell_type": "markdown",
   "id": "4983484d",
   "metadata": {
    "jp-MarkdownHeadingCollapsed": true
   },
   "source": [
    "# Comparing the two ‘dialects’"
   ]
  },
  {
   "cell_type": "markdown",
   "id": "cb27a43c",
   "metadata": {},
   "source": [
    "### pyplot Interface"
   ]
  },
  {
   "cell_type": "code",
   "execution_count": 1,
   "id": "c0b31f23",
   "metadata": {},
   "outputs": [],
   "source": [
    "\n",
    "\n"
   ]
  },
  {
   "cell_type": "markdown",
   "id": "f0c686ba",
   "metadata": {},
   "source": [
    "### OO Interface"
   ]
  },
  {
   "cell_type": "code",
   "execution_count": 2,
   "id": "f67b75e4",
   "metadata": {},
   "outputs": [],
   "source": [
    "\n",
    "\n"
   ]
  },
  {
   "cell_type": "markdown",
   "id": "84cb8eca",
   "metadata": {},
   "source": [
    "# What is OO ax, really?"
   ]
  },
  {
   "cell_type": "code",
   "execution_count": null,
   "id": "9277fb93-e694-4653-b458-50fe0bb1685e",
   "metadata": {},
   "outputs": [],
   "source": []
  },
  {
   "cell_type": "code",
   "execution_count": null,
   "id": "0dcb6be0-f003-4835-be99-73e66e6b9374",
   "metadata": {},
   "outputs": [],
   "source": []
  },
  {
   "cell_type": "code",
   "execution_count": null,
   "id": "41f631a1-0bd1-486b-95ec-76928b44af01",
   "metadata": {},
   "outputs": [],
   "source": []
  },
  {
   "cell_type": "code",
   "execution_count": null,
   "id": "1d9d2844-b2de-46f9-b43e-c94f762e6c65",
   "metadata": {},
   "outputs": [],
   "source": []
  },
  {
   "cell_type": "markdown",
   "id": "e90dca66",
   "metadata": {},
   "source": [
    "# A complete OO example"
   ]
  },
  {
   "cell_type": "code",
   "execution_count": null,
   "id": "ab997cb4-3880-42c6-9429-cb96add09718",
   "metadata": {},
   "outputs": [],
   "source": []
  },
  {
   "cell_type": "markdown",
   "id": "835e31a2",
   "metadata": {},
   "source": [
    "# Multiple rows and columns"
   ]
  },
  {
   "cell_type": "markdown",
   "id": "7d674f09",
   "metadata": {},
   "source": [
    "### Using ax"
   ]
  },
  {
   "cell_type": "code",
   "execution_count": 3,
   "id": "36668d7e",
   "metadata": {},
   "outputs": [],
   "source": [
    "\n",
    "\n"
   ]
  },
  {
   "cell_type": "markdown",
   "id": "7ea6ff76",
   "metadata": {},
   "source": [
    "## Sharing axes"
   ]
  },
  {
   "cell_type": "code",
   "execution_count": null,
   "id": "9ba1093a-ebe1-4f19-9009-5c99167348fd",
   "metadata": {},
   "outputs": [],
   "source": []
  },
  {
   "cell_type": "markdown",
   "id": "43f51df1",
   "metadata": {},
   "source": [
    "## Accessing all axes"
   ]
  },
  {
   "cell_type": "code",
   "execution_count": null,
   "id": "f66a2a3a-7b8d-4f3d-89de-869ffcf27467",
   "metadata": {},
   "outputs": [],
   "source": []
  },
  {
   "cell_type": "markdown",
   "id": "d1670c19",
   "metadata": {},
   "source": [
    "# Other useful plots"
   ]
  },
  {
   "cell_type": "markdown",
   "id": "102d9d8d",
   "metadata": {},
   "source": [
    "## Histograms"
   ]
  },
  {
   "cell_type": "markdown",
   "id": "453326fb",
   "metadata": {},
   "source": [
    "### Data"
   ]
  },
  {
   "cell_type": "code",
   "execution_count": 4,
   "id": "07f2a736",
   "metadata": {},
   "outputs": [],
   "source": [
    "\n",
    "\n"
   ]
  },
  {
   "cell_type": "markdown",
   "id": "4b93fd20",
   "metadata": {},
   "source": [
    "### A quick helper function"
   ]
  },
  {
   "cell_type": "code",
   "execution_count": 5,
   "id": "cd51eaa6",
   "metadata": {},
   "outputs": [],
   "source": [
    "\n",
    "\n"
   ]
  },
  {
   "cell_type": "markdown",
   "id": "fec1246a",
   "metadata": {},
   "source": [
    "### The histogram"
   ]
  },
  {
   "cell_type": "code",
   "execution_count": 6,
   "id": "05b0a42b",
   "metadata": {},
   "outputs": [],
   "source": [
    "\n",
    "\n"
   ]
  },
  {
   "cell_type": "markdown",
   "id": "d1637f5e",
   "metadata": {},
   "source": [
    "## Scatter plots"
   ]
  },
  {
   "cell_type": "code",
   "execution_count": null,
   "id": "422ec28c-be5c-4afa-8ea2-1cd3546473ed",
   "metadata": {},
   "outputs": [],
   "source": []
  },
  {
   "cell_type": "markdown",
   "id": "82e3989c",
   "metadata": {},
   "source": [
    "## Bar charts"
   ]
  },
  {
   "cell_type": "code",
   "execution_count": null,
   "id": "c99c20f8-1648-4ba6-b1a0-27be74745d34",
   "metadata": {},
   "outputs": [],
   "source": []
  },
  {
   "cell_type": "markdown",
   "id": "2c3aeb4b",
   "metadata": {},
   "source": [
    "## Pie charts"
   ]
  },
  {
   "cell_type": "code",
   "execution_count": null,
   "id": "6cd4be1d-0fe4-49f6-aa8a-ea02c1ee5c5e",
   "metadata": {},
   "outputs": [],
   "source": []
  }
 ],
 "metadata": {
  "kernelspec": {
   "display_name": "Python 3 (ipykernel)",
   "language": "python",
   "name": "python3"
  },
  "language_info": {
   "codemirror_mode": {
    "name": "ipython",
    "version": 3
   },
   "file_extension": ".py",
   "mimetype": "text/x-python",
   "name": "python",
   "nbconvert_exporter": "python",
   "pygments_lexer": "ipython3",
   "version": "3.11.5"
  },
  "toc": {
   "base_numbering": 1,
   "nav_menu": {},
   "number_sections": true,
   "sideBar": true,
   "skip_h1_title": false,
   "title_cell": "Table of Contents",
   "title_sidebar": "Contents",
   "toc_cell": false,
   "toc_position": {},
   "toc_section_display": true,
   "toc_window_display": false
  },
  "vscode": {
   "interpreter": {
    "hash": "31f2aee4e71d21fbe5cf8b01ff0e069b9275f58929596ceb00d14d90e3e16cd6"
   }
  }
 },
 "nbformat": 4,
 "nbformat_minor": 5
}
